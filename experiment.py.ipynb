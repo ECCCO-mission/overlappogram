{
 "cells": [
  {
   "cell_type": "code",
   "execution_count": 60,
   "id": "initial_id",
   "metadata": {
    "collapsed": true,
    "ExecuteTime": {
     "end_time": "2024-02-19T17:53:47.687379Z",
     "start_time": "2024-02-19T17:53:47.683722Z"
    }
   },
   "outputs": [],
   "source": [
    "from sklearn.ensemble import RandomForestRegressor, ExtraTreesRegressor\n",
    "from sklearn.linear_model import ElasticNet, SGDRegressor, Ridge\n",
    "from astropy.io import fits\n",
    "import numpy as np\n",
    "import matplotlib.pyplot as plt"
   ]
  },
  {
   "cell_type": "code",
   "outputs": [],
   "source": [
    "response_path = \"data/D16Feb2024_eccco_response_feldman_m_el_with_tables_s_i_lw_coopersun.fits\"\n",
    "response = fits.getdata(response_path)\n",
    "response_hdul = fits.open(response_path)\n",
    "\n",
    "weights_path = \"data/eccco_is_lw_forwardmodel_sample_weights_psf4pix_el.fits\"\n",
    "weights = fits.getdata(weights_path)\n",
    "\n",
    "image_path = \"data/eccco_is_lw_forwardmodel_thermal_response_psf4pix_el.fits\"\n",
    "image = fits.getdata(image_path)"
   ],
   "metadata": {
    "collapsed": false,
    "ExecuteTime": {
     "end_time": "2024-02-19T17:42:58.093979Z",
     "start_time": "2024-02-19T17:42:58.072165Z"
    }
   },
   "id": "73cab691c21f5962",
   "execution_count": 38
  },
  {
   "cell_type": "code",
   "outputs": [
    {
     "data": {
      "text/plain": "((21, 1395, 5491), (2048, 5491), (2048, 5491))"
     },
     "execution_count": 39,
     "metadata": {},
     "output_type": "execute_result"
    }
   ],
   "source": [
    "response.shape, weights.shape, image.shape"
   ],
   "metadata": {
    "collapsed": false,
    "ExecuteTime": {
     "end_time": "2024-02-19T17:42:58.385488Z",
     "start_time": "2024-02-19T17:42:58.381758Z"
    }
   },
   "id": "2e536333a541357d",
   "execution_count": 39
  },
  {
   "cell_type": "code",
   "outputs": [
    {
     "name": "stdout",
     "output_type": "stream",
     "text": [
      "dep_list [5.5 5.6 5.7 5.8 5.9 6.  6.1 6.2 6.3 6.4 6.5 6.6 6.7 6.8 6.9 7.  7.1 7.2\n",
      " 7.3 7.4 7.5]\n"
     ]
    }
   ],
   "source": [
    "dep_name = response_hdul[0].header['DEPNAME']\n",
    "dep_list = response_hdul[1].data[dep_name]\n",
    "dep_list = np.round(dep_list, decimals=2)\n",
    "dep_index_list = response_hdul[1].data['index']\n",
    "print(\"dep_list\", dep_list)"
   ],
   "metadata": {
    "collapsed": false,
    "ExecuteTime": {
     "end_time": "2024-02-19T17:42:58.682806Z",
     "start_time": "2024-02-19T17:42:58.680610Z"
    }
   },
   "id": "fa65e33ce38b8497",
   "execution_count": 40
  },
  {
   "cell_type": "code",
   "outputs": [],
   "source": [
    "num_dep, num_field_angles, rsp_func_width = np.shape(response)\n",
    "\n",
    "num_deps = len(dep_list)\n",
    "\n",
    "begin_slit_index, end_slit_index = 0, 1394\n",
    "solution_fov_width = 1\n",
    "\n",
    "num_field_angles = (end_slit_index - begin_slit_index) + 1\n",
    "calc_num_slits = divmod(num_field_angles, solution_fov_width)\n",
    "num_slits =  int(calc_num_slits[0])\n",
    "center_slit = divmod(end_slit_index - begin_slit_index, 2)[0] + begin_slit_index\n",
    "half_slits = divmod(num_slits, 2)\n",
    "        \n",
    "prepared_response = np.zeros((num_deps  * num_slits, rsp_func_width), dtype=np.float32)\n",
    "response_count = 0\n",
    "for index in dep_index_list:\n",
    "    # Smooth over dependence.\n",
    "    slit_count = 0\n",
    "    for slit_num in range(center_slit - (half_slits[0] * solution_fov_width), center_slit + ((half_slits[0] *solution_fov_width) + 1), solution_fov_width):\n",
    "    #for slit_num in range(begin_slit_index, (end_slit_index + 1), self.solution_fov_width):\n",
    "        if solution_fov_width == 1:\n",
    "            prepared_response[(num_deps  * slit_count) + response_count, :] = response[index, slit_num, :]\n",
    "        else:\n",
    "            raise NotImplementedError(\"dummy marcus\")\n",
    "        slit_count += 1\n",
    "    response_count += 1"
   ],
   "metadata": {
    "collapsed": false,
    "ExecuteTime": {
     "end_time": "2024-02-19T17:42:59.253863Z",
     "start_time": "2024-02-19T17:42:59.073786Z"
    }
   },
   "id": "66fad4609ebd9bc",
   "execution_count": 41
  },
  {
   "cell_type": "code",
   "outputs": [],
   "source": [
    "prepared_response = prepared_response.transpose()"
   ],
   "metadata": {
    "collapsed": false,
    "ExecuteTime": {
     "end_time": "2024-02-19T17:42:59.853667Z",
     "start_time": "2024-02-19T17:42:59.852093Z"
    }
   },
   "id": "aab31285aa80609e",
   "execution_count": 42
  },
  {
   "cell_type": "code",
   "outputs": [],
   "source": [
    "f = ExtraTreesRegressor()"
   ],
   "metadata": {
    "collapsed": false,
    "ExecuteTime": {
     "end_time": "2024-02-19T17:43:00.177966Z",
     "start_time": "2024-02-19T17:43:00.175908Z"
    }
   },
   "id": "9305c1c686541db6",
   "execution_count": 43
  },
  {
   "cell_type": "code",
   "outputs": [],
   "source": [
    "X = prepared_response\n",
    "y = image"
   ],
   "metadata": {
    "collapsed": false,
    "ExecuteTime": {
     "end_time": "2024-02-19T17:43:00.984321Z",
     "start_time": "2024-02-19T17:43:00.982744Z"
    }
   },
   "id": "d3177b4ed5083194",
   "execution_count": 44
  },
  {
   "cell_type": "code",
   "outputs": [
    {
     "data": {
      "text/plain": "((5491, 29295), (2048, 5491))"
     },
     "execution_count": 45,
     "metadata": {},
     "output_type": "execute_result"
    }
   ],
   "source": [
    "X.shape, y.shape"
   ],
   "metadata": {
    "collapsed": false,
    "ExecuteTime": {
     "end_time": "2024-02-19T17:43:02.517837Z",
     "start_time": "2024-02-19T17:43:02.515790Z"
    }
   },
   "id": "8469af43a51e5c85",
   "execution_count": 45
  },
  {
   "cell_type": "code",
   "outputs": [
    {
     "data": {
      "text/plain": "(1, 29295)"
     },
     "execution_count": 20,
     "metadata": {},
     "output_type": "execute_result"
    }
   ],
   "source": [
    "X[1].reshape(1, -1).shape"
   ],
   "metadata": {
    "collapsed": false,
    "ExecuteTime": {
     "end_time": "2024-02-19T17:23:20.190744Z",
     "start_time": "2024-02-19T17:23:20.187227Z"
    }
   },
   "id": "e9f4a6006375ac3e",
   "execution_count": 20
  },
  {
   "cell_type": "code",
   "outputs": [
    {
     "name": "stdout",
     "output_type": "stream",
     "text": [
      "40.4 ms ± 127 µs per loop (mean ± std. dev. of 7 runs, 10 loops each)\n"
     ]
    }
   ],
   "source": [
    "%%timeit\n",
    "\n",
    "f.fit(X[1].reshape(1, -1), y.transpose()[1].reshape(1, -1))"
   ],
   "metadata": {
    "collapsed": false,
    "ExecuteTime": {
     "end_time": "2024-02-19T17:24:03.561798Z",
     "start_time": "2024-02-19T17:24:00.246338Z"
    }
   },
   "id": "d97ab481d7e18e2b",
   "execution_count": 22
  },
  {
   "cell_type": "code",
   "outputs": [
    {
     "data": {
      "text/plain": "(1, 2048)"
     },
     "execution_count": 53,
     "metadata": {},
     "output_type": "execute_result"
    }
   ],
   "source": [
    "y.transpose()[1].reshape(1, -1).shape"
   ],
   "metadata": {
    "collapsed": false,
    "ExecuteTime": {
     "end_time": "2024-02-19T17:43:32.825501Z",
     "start_time": "2024-02-19T17:43:32.821807Z"
    }
   },
   "id": "fed296e97cb2dae9",
   "execution_count": 53
  },
  {
   "cell_type": "code",
   "outputs": [],
   "source": [
    "alpha = 5\n",
    "rho = 0.1\n",
    "r = Ridge(alpha=alpha, fit_intercept=False, solver='auto')"
   ],
   "metadata": {
    "collapsed": false,
    "ExecuteTime": {
     "end_time": "2024-02-19T17:58:42.770788Z",
     "start_time": "2024-02-19T17:58:42.768854Z"
    }
   },
   "id": "2ae80d4bd2efe05",
   "execution_count": 77
  },
  {
   "cell_type": "code",
   "outputs": [
    {
     "name": "stdout",
     "output_type": "stream",
     "text": [
      "85.8 ms ± 2.97 ms per loop (mean ± std. dev. of 7 runs, 10 loops each)\n"
     ]
    }
   ],
   "source": [
    "%%timeit\n",
    "\n",
    "r.fit(X[425].reshape(1, -1), y.transpose()[425].reshape(1, -1))"
   ],
   "metadata": {
    "collapsed": false,
    "ExecuteTime": {
     "end_time": "2024-02-19T17:58:50.221534Z",
     "start_time": "2024-02-19T17:58:43.077894Z"
    }
   },
   "id": "a252ba275572bb19",
   "execution_count": 78
  },
  {
   "cell_type": "code",
   "outputs": [],
   "source": [
    "out = r.predict(X[425].reshape(1, -1))"
   ],
   "metadata": {
    "collapsed": false,
    "ExecuteTime": {
     "end_time": "2024-02-19T17:58:56.781102Z",
     "start_time": "2024-02-19T17:58:56.716645Z"
    }
   },
   "id": "2a1db1259abef988",
   "execution_count": 79
  },
  {
   "cell_type": "code",
   "outputs": [
    {
     "data": {
      "text/plain": "[<matplotlib.lines.Line2D at 0x2c5fec7f0>]"
     },
     "execution_count": 81,
     "metadata": {},
     "output_type": "execute_result"
    },
    {
     "data": {
      "text/plain": "<Figure size 640x480 with 1 Axes>",
      "image/png": "[encoded data removed]"
     },
     "metadata": {},
     "output_type": "display_data"
    }
   ],
   "source": [
    "fig, ax = plt.subplots()\n",
    "ax.plot(y.transpose()[1], out[0], '.')"
   ],
   "metadata": {
    "collapsed": false,
    "ExecuteTime": {
     "end_time": "2024-02-19T17:59:06.964745Z",
     "start_time": "2024-02-19T17:59:06.882011Z"
    }
   },
   "id": "fd7da6798c8b7097",
   "execution_count": 81
  },
  {
   "cell_type": "code",
   "outputs": [],
   "source": [
    "enet = ElasticNet(fit_intercept=False, alpha=alpha, l1_ratio=rho)"
   ],
   "metadata": {
    "collapsed": false,
    "ExecuteTime": {
     "end_time": "2024-02-19T17:59:21.504500Z",
     "start_time": "2024-02-19T17:59:21.498338Z"
    }
   },
   "id": "fc4567ee543c52d6",
   "execution_count": 82
  },
  {
   "cell_type": "code",
   "outputs": [
    {
     "name": "stderr",
     "output_type": "stream",
     "text": [
      "/Users/jhughes/Desktop/repos/overlappogram/venv/lib/python3.9/site-packages/sklearn/linear_model/_coordinate_descent.py:678: ConvergenceWarning: Objective did not converge. You might want to increase the number of iterations, check the scale of the features or consider increasing regularisation. Duality gap: 5.758e-02, tolerance: 5.692e-02\n",
      "  model = cd_fast.enet_coordinate_descent(\n",
      "/Users/jhughes/Desktop/repos/overlappogram/venv/lib/python3.9/site-packages/sklearn/linear_model/_coordinate_descent.py:678: ConvergenceWarning: Objective did not converge. You might want to increase the number of iterations, check the scale of the features or consider increasing regularisation. Duality gap: 6.033e-02, tolerance: 5.834e-02\n",
      "  model = cd_fast.enet_coordinate_descent(\n",
      "/Users/jhughes/Desktop/repos/overlappogram/venv/lib/python3.9/site-packages/sklearn/linear_model/_coordinate_descent.py:678: ConvergenceWarning: Objective did not converge. You might want to increase the number of iterations, check the scale of the features or consider increasing regularisation. Duality gap: 6.323e-02, tolerance: 5.989e-02\n",
      "  model = cd_fast.enet_coordinate_descent(\n",
      "/Users/jhughes/Desktop/repos/overlappogram/venv/lib/python3.9/site-packages/sklearn/linear_model/_coordinate_descent.py:678: ConvergenceWarning: Objective did not converge. You might want to increase the number of iterations, check the scale of the features or consider increasing regularisation. Duality gap: 6.621e-02, tolerance: 6.153e-02\n",
      "  model = cd_fast.enet_coordinate_descent(\n",
      "/Users/jhughes/Desktop/repos/overlappogram/venv/lib/python3.9/site-packages/sklearn/linear_model/_coordinate_descent.py:678: ConvergenceWarning: Objective did not converge. You might want to increase the number of iterations, check the scale of the features or consider increasing regularisation. Duality gap: 6.927e-02, tolerance: 6.325e-02\n",
      "  model = cd_fast.enet_coordinate_descent(\n",
      "/Users/jhughes/Desktop/repos/overlappogram/venv/lib/python3.9/site-packages/sklearn/linear_model/_coordinate_descent.py:678: ConvergenceWarning: Objective did not converge. You might want to increase the number of iterations, check the scale of the features or consider increasing regularisation. Duality gap: 7.238e-02, tolerance: 6.501e-02\n",
      "  model = cd_fast.enet_coordinate_descent(\n",
      "/Users/jhughes/Desktop/repos/overlappogram/venv/lib/python3.9/site-packages/sklearn/linear_model/_coordinate_descent.py:678: ConvergenceWarning: Objective did not converge. You might want to increase the number of iterations, check the scale of the features or consider increasing regularisation. Duality gap: 7.549e-02, tolerance: 6.679e-02\n",
      "  model = cd_fast.enet_coordinate_descent(\n",
      "/Users/jhughes/Desktop/repos/overlappogram/venv/lib/python3.9/site-packages/sklearn/linear_model/_coordinate_descent.py:678: ConvergenceWarning: Objective did not converge. You might want to increase the number of iterations, check the scale of the features or consider increasing regularisation. Duality gap: 7.862e-02, tolerance: 6.859e-02\n",
      "  model = cd_fast.enet_coordinate_descent(\n",
      "/Users/jhughes/Desktop/repos/overlappogram/venv/lib/python3.9/site-packages/sklearn/linear_model/_coordinate_descent.py:678: ConvergenceWarning: Objective did not converge. You might want to increase the number of iterations, check the scale of the features or consider increasing regularisation. Duality gap: 8.176e-02, tolerance: 7.039e-02\n",
      "  model = cd_fast.enet_coordinate_descent(\n",
      "/Users/jhughes/Desktop/repos/overlappogram/venv/lib/python3.9/site-packages/sklearn/linear_model/_coordinate_descent.py:678: ConvergenceWarning: Objective did not converge. You might want to increase the number of iterations, check the scale of the features or consider increasing regularisation. Duality gap: 8.507e-02, tolerance: 7.216e-02\n",
      "  model = cd_fast.enet_coordinate_descent(\n",
      "/Users/jhughes/Desktop/repos/overlappogram/venv/lib/python3.9/site-packages/sklearn/linear_model/_coordinate_descent.py:678: ConvergenceWarning: Objective did not converge. You might want to increase the number of iterations, check the scale of the features or consider increasing regularisation. Duality gap: 8.842e-02, tolerance: 7.386e-02\n",
      "  model = cd_fast.enet_coordinate_descent(\n",
      "/Users/jhughes/Desktop/repos/overlappogram/venv/lib/python3.9/site-packages/sklearn/linear_model/_coordinate_descent.py:678: ConvergenceWarning: Objective did not converge. You might want to increase the number of iterations, check the scale of the features or consider increasing regularisation. Duality gap: 9.167e-02, tolerance: 7.549e-02\n",
      "  model = cd_fast.enet_coordinate_descent(\n",
      "/Users/jhughes/Desktop/repos/overlappogram/venv/lib/python3.9/site-packages/sklearn/linear_model/_coordinate_descent.py:678: ConvergenceWarning: Objective did not converge. You might want to increase the number of iterations, check the scale of the features or consider increasing regularisation. Duality gap: 9.475e-02, tolerance: 7.705e-02\n",
      "  model = cd_fast.enet_coordinate_descent(\n",
      "/Users/jhughes/Desktop/repos/overlappogram/venv/lib/python3.9/site-packages/sklearn/linear_model/_coordinate_descent.py:678: ConvergenceWarning: Objective did not converge. You might want to increase the number of iterations, check the scale of the features or consider increasing regularisation. Duality gap: 9.766e-02, tolerance: 7.854e-02\n",
      "  model = cd_fast.enet_coordinate_descent(\n",
      "/Users/jhughes/Desktop/repos/overlappogram/venv/lib/python3.9/site-packages/sklearn/linear_model/_coordinate_descent.py:678: ConvergenceWarning: Objective did not converge. You might want to increase the number of iterations, check the scale of the features or consider increasing regularisation. Duality gap: 1.005e-01, tolerance: 7.999e-02\n",
      "  model = cd_fast.enet_coordinate_descent(\n",
      "/Users/jhughes/Desktop/repos/overlappogram/venv/lib/python3.9/site-packages/sklearn/linear_model/_coordinate_descent.py:678: ConvergenceWarning: Objective did not converge. You might want to increase the number of iterations, check the scale of the features or consider increasing regularisation. Duality gap: 1.033e-01, tolerance: 8.142e-02\n",
      "  model = cd_fast.enet_coordinate_descent(\n",
      "/Users/jhughes/Desktop/repos/overlappogram/venv/lib/python3.9/site-packages/sklearn/linear_model/_coordinate_descent.py:678: ConvergenceWarning: Objective did not converge. You might want to increase the number of iterations, check the scale of the features or consider increasing regularisation. Duality gap: 1.069e-01, tolerance: 8.282e-02\n",
      "  model = cd_fast.enet_coordinate_descent(\n",
      "/Users/jhughes/Desktop/repos/overlappogram/venv/lib/python3.9/site-packages/sklearn/linear_model/_coordinate_descent.py:678: ConvergenceWarning: Objective did not converge. You might want to increase the number of iterations, check the scale of the features or consider increasing regularisation. Duality gap: 1.112e-01, tolerance: 8.422e-02\n",
      "  model = cd_fast.enet_coordinate_descent(\n",
      "/Users/jhughes/Desktop/repos/overlappogram/venv/lib/python3.9/site-packages/sklearn/linear_model/_coordinate_descent.py:678: ConvergenceWarning: Objective did not converge. You might want to increase the number of iterations, check the scale of the features or consider increasing regularisation. Duality gap: 1.156e-01, tolerance: 8.561e-02\n",
      "  model = cd_fast.enet_coordinate_descent(\n",
      "/Users/jhughes/Desktop/repos/overlappogram/venv/lib/python3.9/site-packages/sklearn/linear_model/_coordinate_descent.py:678: ConvergenceWarning: Objective did not converge. You might want to increase the number of iterations, check the scale of the features or consider increasing regularisation. Duality gap: 1.199e-01, tolerance: 8.698e-02\n",
      "  model = cd_fast.enet_coordinate_descent(\n",
      "/Users/jhughes/Desktop/repos/overlappogram/venv/lib/python3.9/site-packages/sklearn/linear_model/_coordinate_descent.py:678: ConvergenceWarning: Objective did not converge. You might want to increase the number of iterations, check the scale of the features or consider increasing regularisation. Duality gap: 1.240e-01, tolerance: 8.832e-02\n",
      "  model = cd_fast.enet_coordinate_descent(\n",
      "/Users/jhughes/Desktop/repos/overlappogram/venv/lib/python3.9/site-packages/sklearn/linear_model/_coordinate_descent.py:678: ConvergenceWarning: Objective did not converge. You might want to increase the number of iterations, check the scale of the features or consider increasing regularisation. Duality gap: 1.278e-01, tolerance: 8.959e-02\n",
      "  model = cd_fast.enet_coordinate_descent(\n",
      "/Users/jhughes/Desktop/repos/overlappogram/venv/lib/python3.9/site-packages/sklearn/linear_model/_coordinate_descent.py:678: ConvergenceWarning: Objective did not converge. You might want to increase the number of iterations, check the scale of the features or consider increasing regularisation. Duality gap: 1.310e-01, tolerance: 9.074e-02\n",
      "  model = cd_fast.enet_coordinate_descent(\n",
      "/Users/jhughes/Desktop/repos/overlappogram/venv/lib/python3.9/site-packages/sklearn/linear_model/_coordinate_descent.py:678: ConvergenceWarning: Objective did not converge. You might want to increase the number of iterations, check the scale of the features or consider increasing regularisation. Duality gap: 1.337e-01, tolerance: 9.175e-02\n",
      "  model = cd_fast.enet_coordinate_descent(\n",
      "/Users/jhughes/Desktop/repos/overlappogram/venv/lib/python3.9/site-packages/sklearn/linear_model/_coordinate_descent.py:678: ConvergenceWarning: Objective did not converge. You might want to increase the number of iterations, check the scale of the features or consider increasing regularisation. Duality gap: 1.359e-01, tolerance: 9.260e-02\n",
      "  model = cd_fast.enet_coordinate_descent(\n",
      "/Users/jhughes/Desktop/repos/overlappogram/venv/lib/python3.9/site-packages/sklearn/linear_model/_coordinate_descent.py:678: ConvergenceWarning: Objective did not converge. You might want to increase the number of iterations, check the scale of the features or consider increasing regularisation. Duality gap: 1.377e-01, tolerance: 9.327e-02\n",
      "  model = cd_fast.enet_coordinate_descent(\n",
      "/Users/jhughes/Desktop/repos/overlappogram/venv/lib/python3.9/site-packages/sklearn/linear_model/_coordinate_descent.py:678: ConvergenceWarning: Objective did not converge. You might want to increase the number of iterations, check the scale of the features or consider increasing regularisation. Duality gap: 1.391e-01, tolerance: 9.376e-02\n",
      "  model = cd_fast.enet_coordinate_descent(\n",
      "/Users/jhughes/Desktop/repos/overlappogram/venv/lib/python3.9/site-packages/sklearn/linear_model/_coordinate_descent.py:678: ConvergenceWarning: Objective did not converge. You might want to increase the number of iterations, check the scale of the features or consider increasing regularisation. Duality gap: 1.399e-01, tolerance: 9.406e-02\n",
      "  model = cd_fast.enet_coordinate_descent(\n",
      "/Users/jhughes/Desktop/repos/overlappogram/venv/lib/python3.9/site-packages/sklearn/linear_model/_coordinate_descent.py:678: ConvergenceWarning: Objective did not converge. You might want to increase the number of iterations, check the scale of the features or consider increasing regularisation. Duality gap: 1.402e-01, tolerance: 9.420e-02\n",
      "  model = cd_fast.enet_coordinate_descent(\n",
      "/Users/jhughes/Desktop/repos/overlappogram/venv/lib/python3.9/site-packages/sklearn/linear_model/_coordinate_descent.py:678: ConvergenceWarning: Objective did not converge. You might want to increase the number of iterations, check the scale of the features or consider increasing regularisation. Duality gap: 1.403e-01, tolerance: 9.423e-02\n",
      "  model = cd_fast.enet_coordinate_descent(\n",
      "/Users/jhughes/Desktop/repos/overlappogram/venv/lib/python3.9/site-packages/sklearn/linear_model/_coordinate_descent.py:678: ConvergenceWarning: Objective did not converge. You might want to increase the number of iterations, check the scale of the features or consider increasing regularisation. Duality gap: 1.403e-01, tolerance: 9.424e-02\n",
      "  model = cd_fast.enet_coordinate_descent(\n",
      "/Users/jhughes/Desktop/repos/overlappogram/venv/lib/python3.9/site-packages/sklearn/linear_model/_coordinate_descent.py:678: ConvergenceWarning: Objective did not converge. You might want to increase the number of iterations, check the scale of the features or consider increasing regularisation. Duality gap: 1.405e-01, tolerance: 9.429e-02\n",
      "  model = cd_fast.enet_coordinate_descent(\n",
      "/Users/jhughes/Desktop/repos/overlappogram/venv/lib/python3.9/site-packages/sklearn/linear_model/_coordinate_descent.py:678: ConvergenceWarning: Objective did not converge. You might want to increase the number of iterations, check the scale of the features or consider increasing regularisation. Duality gap: 1.407e-01, tolerance: 9.439e-02\n",
      "  model = cd_fast.enet_coordinate_descent(\n",
      "/Users/jhughes/Desktop/repos/overlappogram/venv/lib/python3.9/site-packages/sklearn/linear_model/_coordinate_descent.py:678: ConvergenceWarning: Objective did not converge. You might want to increase the number of iterations, check the scale of the features or consider increasing regularisation. Duality gap: 1.411e-01, tolerance: 9.453e-02\n",
      "  model = cd_fast.enet_coordinate_descent(\n",
      "/Users/jhughes/Desktop/repos/overlappogram/venv/lib/python3.9/site-packages/sklearn/linear_model/_coordinate_descent.py:678: ConvergenceWarning: Objective did not converge. You might want to increase the number of iterations, check the scale of the features or consider increasing regularisation. Duality gap: 1.416e-01, tolerance: 9.470e-02\n",
      "  model = cd_fast.enet_coordinate_descent(\n",
      "/Users/jhughes/Desktop/repos/overlappogram/venv/lib/python3.9/site-packages/sklearn/linear_model/_coordinate_descent.py:678: ConvergenceWarning: Objective did not converge. You might want to increase the number of iterations, check the scale of the features or consider increasing regularisation. Duality gap: 1.421e-01, tolerance: 9.490e-02\n",
      "  model = cd_fast.enet_coordinate_descent(\n",
      "/Users/jhughes/Desktop/repos/overlappogram/venv/lib/python3.9/site-packages/sklearn/linear_model/_coordinate_descent.py:678: ConvergenceWarning: Objective did not converge. You might want to increase the number of iterations, check the scale of the features or consider increasing regularisation. Duality gap: 1.427e-01, tolerance: 9.512e-02\n",
      "  model = cd_fast.enet_coordinate_descent(\n",
      "/Users/jhughes/Desktop/repos/overlappogram/venv/lib/python3.9/site-packages/sklearn/linear_model/_coordinate_descent.py:678: ConvergenceWarning: Objective did not converge. You might want to increase the number of iterations, check the scale of the features or consider increasing regularisation. Duality gap: 1.432e-01, tolerance: 9.529e-02\n",
      "  model = cd_fast.enet_coordinate_descent(\n",
      "/Users/jhughes/Desktop/repos/overlappogram/venv/lib/python3.9/site-packages/sklearn/linear_model/_coordinate_descent.py:678: ConvergenceWarning: Objective did not converge. You might want to increase the number of iterations, check the scale of the features or consider increasing regularisation. Duality gap: 1.432e-01, tolerance: 9.532e-02\n",
      "  model = cd_fast.enet_coordinate_descent(\n",
      "/Users/jhughes/Desktop/repos/overlappogram/venv/lib/python3.9/site-packages/sklearn/linear_model/_coordinate_descent.py:678: ConvergenceWarning: Objective did not converge. You might want to increase the number of iterations, check the scale of the features or consider increasing regularisation. Duality gap: 1.426e-01, tolerance: 9.509e-02\n",
      "  model = cd_fast.enet_coordinate_descent(\n",
      "/Users/jhughes/Desktop/repos/overlappogram/venv/lib/python3.9/site-packages/sklearn/linear_model/_coordinate_descent.py:678: ConvergenceWarning: Objective did not converge. You might want to increase the number of iterations, check the scale of the features or consider increasing regularisation. Duality gap: 1.412e-01, tolerance: 9.454e-02\n",
      "  model = cd_fast.enet_coordinate_descent(\n",
      "/Users/jhughes/Desktop/repos/overlappogram/venv/lib/python3.9/site-packages/sklearn/linear_model/_coordinate_descent.py:678: ConvergenceWarning: Objective did not converge. You might want to increase the number of iterations, check the scale of the features or consider increasing regularisation. Duality gap: 1.389e-01, tolerance: 9.369e-02\n",
      "  model = cd_fast.enet_coordinate_descent(\n",
      "/Users/jhughes/Desktop/repos/overlappogram/venv/lib/python3.9/site-packages/sklearn/linear_model/_coordinate_descent.py:678: ConvergenceWarning: Objective did not converge. You might want to increase the number of iterations, check the scale of the features or consider increasing regularisation. Duality gap: 1.361e-01, tolerance: 9.265e-02\n",
      "  model = cd_fast.enet_coordinate_descent(\n",
      "/Users/jhughes/Desktop/repos/overlappogram/venv/lib/python3.9/site-packages/sklearn/linear_model/_coordinate_descent.py:678: ConvergenceWarning: Objective did not converge. You might want to increase the number of iterations, check the scale of the features or consider increasing regularisation. Duality gap: 1.338e-01, tolerance: 9.177e-02\n",
      "  model = cd_fast.enet_coordinate_descent(\n",
      "/Users/jhughes/Desktop/repos/overlappogram/venv/lib/python3.9/site-packages/sklearn/linear_model/_coordinate_descent.py:678: ConvergenceWarning: Objective did not converge. You might want to increase the number of iterations, check the scale of the features or consider increasing regularisation. Duality gap: 1.341e-01, tolerance: 9.190e-02\n",
      "  model = cd_fast.enet_coordinate_descent(\n",
      "/Users/jhughes/Desktop/repos/overlappogram/venv/lib/python3.9/site-packages/sklearn/linear_model/_coordinate_descent.py:678: ConvergenceWarning: Objective did not converge. You might want to increase the number of iterations, check the scale of the features or consider increasing regularisation. Duality gap: 1.430e-01, tolerance: 9.523e-02\n",
      "  model = cd_fast.enet_coordinate_descent(\n",
      "/Users/jhughes/Desktop/repos/overlappogram/venv/lib/python3.9/site-packages/sklearn/linear_model/_coordinate_descent.py:678: ConvergenceWarning: Objective did not converge. You might want to increase the number of iterations, check the scale of the features or consider increasing regularisation. Duality gap: 1.750e-01, tolerance: 1.067e-01\n",
      "  model = cd_fast.enet_coordinate_descent(\n",
      "/Users/jhughes/Desktop/repos/overlappogram/venv/lib/python3.9/site-packages/sklearn/linear_model/_coordinate_descent.py:678: ConvergenceWarning: Objective did not converge. You might want to increase the number of iterations, check the scale of the features or consider increasing regularisation. Duality gap: 2.629e-01, tolerance: 1.349e-01\n",
      "  model = cd_fast.enet_coordinate_descent(\n",
      "/Users/jhughes/Desktop/repos/overlappogram/venv/lib/python3.9/site-packages/sklearn/linear_model/_coordinate_descent.py:678: ConvergenceWarning: Objective did not converge. You might want to increase the number of iterations, check the scale of the features or consider increasing regularisation. Duality gap: 4.302e-01, tolerance: 1.888e-01\n",
      "  model = cd_fast.enet_coordinate_descent(\n",
      "/Users/jhughes/Desktop/repos/overlappogram/venv/lib/python3.9/site-packages/sklearn/linear_model/_coordinate_descent.py:678: ConvergenceWarning: Objective did not converge. You might want to increase the number of iterations, check the scale of the features or consider increasing regularisation. Duality gap: 6.672e-01, tolerance: 2.683e-01\n",
      "  model = cd_fast.enet_coordinate_descent(\n",
      "/Users/jhughes/Desktop/repos/overlappogram/venv/lib/python3.9/site-packages/sklearn/linear_model/_coordinate_descent.py:678: ConvergenceWarning: Objective did not converge. You might want to increase the number of iterations, check the scale of the features or consider increasing regularisation. Duality gap: 9.173e-01, tolerance: 3.592e-01\n",
      "  model = cd_fast.enet_coordinate_descent(\n",
      "/Users/jhughes/Desktop/repos/overlappogram/venv/lib/python3.9/site-packages/sklearn/linear_model/_coordinate_descent.py:678: ConvergenceWarning: Objective did not converge. You might want to increase the number of iterations, check the scale of the features or consider increasing regularisation. Duality gap: 1.133e+00, tolerance: 4.457e-01\n",
      "  model = cd_fast.enet_coordinate_descent(\n",
      "/Users/jhughes/Desktop/repos/overlappogram/venv/lib/python3.9/site-packages/sklearn/linear_model/_coordinate_descent.py:678: ConvergenceWarning: Objective did not converge. You might want to increase the number of iterations, check the scale of the features or consider increasing regularisation. Duality gap: 1.506e+00, tolerance: 5.159e-01\n",
      "  model = cd_fast.enet_coordinate_descent(\n",
      "/Users/jhughes/Desktop/repos/overlappogram/venv/lib/python3.9/site-packages/sklearn/linear_model/_coordinate_descent.py:678: ConvergenceWarning: Objective did not converge. You might want to increase the number of iterations, check the scale of the features or consider increasing regularisation. Duality gap: 1.730e+00, tolerance: 5.564e-01\n",
      "  model = cd_fast.enet_coordinate_descent(\n",
      "/Users/jhughes/Desktop/repos/overlappogram/venv/lib/python3.9/site-packages/sklearn/linear_model/_coordinate_descent.py:678: ConvergenceWarning: Objective did not converge. You might want to increase the number of iterations, check the scale of the features or consider increasing regularisation. Duality gap: 1.774e+00, tolerance: 5.641e-01\n",
      "  model = cd_fast.enet_coordinate_descent(\n",
      "/Users/jhughes/Desktop/repos/overlappogram/venv/lib/python3.9/site-packages/sklearn/linear_model/_coordinate_descent.py:678: ConvergenceWarning: Objective did not converge. You might want to increase the number of iterations, check the scale of the features or consider increasing regularisation. Duality gap: 1.744e+00, tolerance: 5.589e-01\n",
      "  model = cd_fast.enet_coordinate_descent(\n",
      "/Users/jhughes/Desktop/repos/overlappogram/venv/lib/python3.9/site-packages/sklearn/linear_model/_coordinate_descent.py:678: ConvergenceWarning: Objective did not converge. You might want to increase the number of iterations, check the scale of the features or consider increasing regularisation. Duality gap: 1.825e+00, tolerance: 5.730e-01\n",
      "  model = cd_fast.enet_coordinate_descent(\n",
      "/Users/jhughes/Desktop/repos/overlappogram/venv/lib/python3.9/site-packages/sklearn/linear_model/_coordinate_descent.py:678: ConvergenceWarning: Objective did not converge. You might want to increase the number of iterations, check the scale of the features or consider increasing regularisation. Duality gap: 2.167e+00, tolerance: 6.330e-01\n",
      "  model = cd_fast.enet_coordinate_descent(\n",
      "/Users/jhughes/Desktop/repos/overlappogram/venv/lib/python3.9/site-packages/sklearn/linear_model/_coordinate_descent.py:678: ConvergenceWarning: Objective did not converge. You might want to increase the number of iterations, check the scale of the features or consider increasing regularisation. Duality gap: 2.853e+00, tolerance: 7.534e-01\n",
      "  model = cd_fast.enet_coordinate_descent(\n",
      "/Users/jhughes/Desktop/repos/overlappogram/venv/lib/python3.9/site-packages/sklearn/linear_model/_coordinate_descent.py:678: ConvergenceWarning: Objective did not converge. You might want to increase the number of iterations, check the scale of the features or consider increasing regularisation. Duality gap: 4.063e+00, tolerance: 9.426e-01\n",
      "  model = cd_fast.enet_coordinate_descent(\n",
      "/Users/jhughes/Desktop/repos/overlappogram/venv/lib/python3.9/site-packages/sklearn/linear_model/_coordinate_descent.py:678: ConvergenceWarning: Objective did not converge. You might want to increase the number of iterations, check the scale of the features or consider increasing regularisation. Duality gap: 5.938e+00, tolerance: 1.217e+00\n",
      "  model = cd_fast.enet_coordinate_descent(\n",
      "/Users/jhughes/Desktop/repos/overlappogram/venv/lib/python3.9/site-packages/sklearn/linear_model/_coordinate_descent.py:678: ConvergenceWarning: Objective did not converge. You might want to increase the number of iterations, check the scale of the features or consider increasing regularisation. Duality gap: 8.834e+00, tolerance: 1.605e+00\n",
      "  model = cd_fast.enet_coordinate_descent(\n",
      "/Users/jhughes/Desktop/repos/overlappogram/venv/lib/python3.9/site-packages/sklearn/linear_model/_coordinate_descent.py:678: ConvergenceWarning: Objective did not converge. You might want to increase the number of iterations, check the scale of the features or consider increasing regularisation. Duality gap: 1.276e+01, tolerance: 2.090e+00\n",
      "  model = cd_fast.enet_coordinate_descent(\n",
      "/Users/jhughes/Desktop/repos/overlappogram/venv/lib/python3.9/site-packages/sklearn/linear_model/_coordinate_descent.py:678: ConvergenceWarning: Objective did not converge. You might want to increase the number of iterations, check the scale of the features or consider increasing regularisation. Duality gap: 1.646e+01, tolerance: 2.512e+00\n",
      "  model = cd_fast.enet_coordinate_descent(\n",
      "/Users/jhughes/Desktop/repos/overlappogram/venv/lib/python3.9/site-packages/sklearn/linear_model/_coordinate_descent.py:678: ConvergenceWarning: Objective did not converge. You might want to increase the number of iterations, check the scale of the features or consider increasing regularisation. Duality gap: 1.717e+01, tolerance: 2.593e+00\n",
      "  model = cd_fast.enet_coordinate_descent(\n",
      "/Users/jhughes/Desktop/repos/overlappogram/venv/lib/python3.9/site-packages/sklearn/linear_model/_coordinate_descent.py:678: ConvergenceWarning: Objective did not converge. You might want to increase the number of iterations, check the scale of the features or consider increasing regularisation. Duality gap: 1.390e+01, tolerance: 2.222e+00\n",
      "  model = cd_fast.enet_coordinate_descent(\n",
      "/Users/jhughes/Desktop/repos/overlappogram/venv/lib/python3.9/site-packages/sklearn/linear_model/_coordinate_descent.py:678: ConvergenceWarning: Objective did not converge. You might want to increase the number of iterations, check the scale of the features or consider increasing regularisation. Duality gap: 8.995e+00, tolerance: 1.625e+00\n",
      "  model = cd_fast.enet_coordinate_descent(\n",
      "/Users/jhughes/Desktop/repos/overlappogram/venv/lib/python3.9/site-packages/sklearn/linear_model/_coordinate_descent.py:678: ConvergenceWarning: Objective did not converge. You might want to increase the number of iterations, check the scale of the features or consider increasing regularisation. Duality gap: 5.080e+00, tolerance: 1.093e+00\n",
      "  model = cd_fast.enet_coordinate_descent(\n",
      "/Users/jhughes/Desktop/repos/overlappogram/venv/lib/python3.9/site-packages/sklearn/linear_model/_coordinate_descent.py:678: ConvergenceWarning: Objective did not converge. You might want to increase the number of iterations, check the scale of the features or consider increasing regularisation. Duality gap: 2.733e+00, tolerance: 7.332e-01\n",
      "  model = cd_fast.enet_coordinate_descent(\n",
      "/Users/jhughes/Desktop/repos/overlappogram/venv/lib/python3.9/site-packages/sklearn/linear_model/_coordinate_descent.py:678: ConvergenceWarning: Objective did not converge. You might want to increase the number of iterations, check the scale of the features or consider increasing regularisation. Duality gap: 1.503e+00, tolerance: 5.154e-01\n",
      "  model = cd_fast.enet_coordinate_descent(\n",
      "/Users/jhughes/Desktop/repos/overlappogram/venv/lib/python3.9/site-packages/sklearn/linear_model/_coordinate_descent.py:678: ConvergenceWarning: Objective did not converge. You might want to increase the number of iterations, check the scale of the features or consider increasing regularisation. Duality gap: 9.905e-01, tolerance: 3.849e-01\n",
      "  model = cd_fast.enet_coordinate_descent(\n",
      "/Users/jhughes/Desktop/repos/overlappogram/venv/lib/python3.9/site-packages/sklearn/linear_model/_coordinate_descent.py:678: ConvergenceWarning: Objective did not converge. You might want to increase the number of iterations, check the scale of the features or consider increasing regularisation. Duality gap: 7.611e-01, tolerance: 3.043e-01\n",
      "  model = cd_fast.enet_coordinate_descent(\n",
      "/Users/jhughes/Desktop/repos/overlappogram/venv/lib/python3.9/site-packages/sklearn/linear_model/_coordinate_descent.py:678: ConvergenceWarning: Objective did not converge. You might want to increase the number of iterations, check the scale of the features or consider increasing regularisation. Duality gap: 6.359e-01, tolerance: 2.574e-01\n",
      "  model = cd_fast.enet_coordinate_descent(\n",
      "/Users/jhughes/Desktop/repos/overlappogram/venv/lib/python3.9/site-packages/sklearn/linear_model/_coordinate_descent.py:678: ConvergenceWarning: Objective did not converge. You might want to increase the number of iterations, check the scale of the features or consider increasing regularisation. Duality gap: 5.882e-01, tolerance: 2.415e-01\n",
      "  model = cd_fast.enet_coordinate_descent(\n",
      "/Users/jhughes/Desktop/repos/overlappogram/venv/lib/python3.9/site-packages/sklearn/linear_model/_coordinate_descent.py:678: ConvergenceWarning: Objective did not converge. You might want to increase the number of iterations, check the scale of the features or consider increasing regularisation. Duality gap: 6.313e-01, tolerance: 2.558e-01\n",
      "  model = cd_fast.enet_coordinate_descent(\n",
      "/Users/jhughes/Desktop/repos/overlappogram/venv/lib/python3.9/site-packages/sklearn/linear_model/_coordinate_descent.py:678: ConvergenceWarning: Objective did not converge. You might want to increase the number of iterations, check the scale of the features or consider increasing regularisation. Duality gap: 7.311e-01, tolerance: 2.927e-01\n",
      "  model = cd_fast.enet_coordinate_descent(\n",
      "/Users/jhughes/Desktop/repos/overlappogram/venv/lib/python3.9/site-packages/sklearn/linear_model/_coordinate_descent.py:678: ConvergenceWarning: Objective did not converge. You might want to increase the number of iterations, check the scale of the features or consider increasing regularisation. Duality gap: 8.537e-01, tolerance: 3.373e-01\n",
      "  model = cd_fast.enet_coordinate_descent(\n",
      "/Users/jhughes/Desktop/repos/overlappogram/venv/lib/python3.9/site-packages/sklearn/linear_model/_coordinate_descent.py:678: ConvergenceWarning: Objective did not converge. You might want to increase the number of iterations, check the scale of the features or consider increasing regularisation. Duality gap: 9.667e-01, tolerance: 3.764e-01\n",
      "  model = cd_fast.enet_coordinate_descent(\n",
      "/Users/jhughes/Desktop/repos/overlappogram/venv/lib/python3.9/site-packages/sklearn/linear_model/_coordinate_descent.py:678: ConvergenceWarning: Objective did not converge. You might want to increase the number of iterations, check the scale of the features or consider increasing regularisation. Duality gap: 1.040e+00, tolerance: 4.036e-01\n",
      "  model = cd_fast.enet_coordinate_descent(\n",
      "/Users/jhughes/Desktop/repos/overlappogram/venv/lib/python3.9/site-packages/sklearn/linear_model/_coordinate_descent.py:678: ConvergenceWarning: Objective did not converge. You might want to increase the number of iterations, check the scale of the features or consider increasing regularisation. Duality gap: 1.064e+00, tolerance: 4.130e-01\n",
      "  model = cd_fast.enet_coordinate_descent(\n",
      "/Users/jhughes/Desktop/repos/overlappogram/venv/lib/python3.9/site-packages/sklearn/linear_model/_coordinate_descent.py:678: ConvergenceWarning: Objective did not converge. You might want to increase the number of iterations, check the scale of the features or consider increasing regularisation. Duality gap: 1.018e+00, tolerance: 3.952e-01\n",
      "  model = cd_fast.enet_coordinate_descent(\n",
      "/Users/jhughes/Desktop/repos/overlappogram/venv/lib/python3.9/site-packages/sklearn/linear_model/_coordinate_descent.py:678: ConvergenceWarning: Objective did not converge. You might want to increase the number of iterations, check the scale of the features or consider increasing regularisation. Duality gap: 8.873e-01, tolerance: 3.489e-01\n",
      "  model = cd_fast.enet_coordinate_descent(\n",
      "/Users/jhughes/Desktop/repos/overlappogram/venv/lib/python3.9/site-packages/sklearn/linear_model/_coordinate_descent.py:678: ConvergenceWarning: Objective did not converge. You might want to increase the number of iterations, check the scale of the features or consider increasing regularisation. Duality gap: 7.197e-01, tolerance: 2.884e-01\n",
      "  model = cd_fast.enet_coordinate_descent(\n",
      "/Users/jhughes/Desktop/repos/overlappogram/venv/lib/python3.9/site-packages/sklearn/linear_model/_coordinate_descent.py:678: ConvergenceWarning: Objective did not converge. You might want to increase the number of iterations, check the scale of the features or consider increasing regularisation. Duality gap: 5.579e-01, tolerance: 2.316e-01\n",
      "  model = cd_fast.enet_coordinate_descent(\n",
      "/Users/jhughes/Desktop/repos/overlappogram/venv/lib/python3.9/site-packages/sklearn/linear_model/_coordinate_descent.py:678: ConvergenceWarning: Objective did not converge. You might want to increase the number of iterations, check the scale of the features or consider increasing regularisation. Duality gap: 4.274e-01, tolerance: 1.879e-01\n",
      "  model = cd_fast.enet_coordinate_descent(\n",
      "/Users/jhughes/Desktop/repos/overlappogram/venv/lib/python3.9/site-packages/sklearn/linear_model/_coordinate_descent.py:678: ConvergenceWarning: Objective did not converge. You might want to increase the number of iterations, check the scale of the features or consider increasing regularisation. Duality gap: 3.350e-01, tolerance: 1.575e-01\n",
      "  model = cd_fast.enet_coordinate_descent(\n",
      "/Users/jhughes/Desktop/repos/overlappogram/venv/lib/python3.9/site-packages/sklearn/linear_model/_coordinate_descent.py:678: ConvergenceWarning: Objective did not converge. You might want to increase the number of iterations, check the scale of the features or consider increasing regularisation. Duality gap: 2.690e-01, tolerance: 1.368e-01\n",
      "  model = cd_fast.enet_coordinate_descent(\n",
      "/Users/jhughes/Desktop/repos/overlappogram/venv/lib/python3.9/site-packages/sklearn/linear_model/_coordinate_descent.py:678: ConvergenceWarning: Objective did not converge. You might want to increase the number of iterations, check the scale of the features or consider increasing regularisation. Duality gap: 2.214e-01, tolerance: 1.217e-01\n",
      "  model = cd_fast.enet_coordinate_descent(\n",
      "/Users/jhughes/Desktop/repos/overlappogram/venv/lib/python3.9/site-packages/sklearn/linear_model/_coordinate_descent.py:678: ConvergenceWarning: Objective did not converge. You might want to increase the number of iterations, check the scale of the features or consider increasing regularisation. Duality gap: 1.861e-01, tolerance: 1.103e-01\n",
      "  model = cd_fast.enet_coordinate_descent(\n",
      "/Users/jhughes/Desktop/repos/overlappogram/venv/lib/python3.9/site-packages/sklearn/linear_model/_coordinate_descent.py:678: ConvergenceWarning: Objective did not converge. You might want to increase the number of iterations, check the scale of the features or consider increasing regularisation. Duality gap: 1.639e-01, tolerance: 1.028e-01\n",
      "  model = cd_fast.enet_coordinate_descent(\n",
      "/Users/jhughes/Desktop/repos/overlappogram/venv/lib/python3.9/site-packages/sklearn/linear_model/_coordinate_descent.py:678: ConvergenceWarning: Objective did not converge. You might want to increase the number of iterations, check the scale of the features or consider increasing regularisation. Duality gap: 1.590e-01, tolerance: 1.011e-01\n",
      "  model = cd_fast.enet_coordinate_descent(\n",
      "/Users/jhughes/Desktop/repos/overlappogram/venv/lib/python3.9/site-packages/sklearn/linear_model/_coordinate_descent.py:678: ConvergenceWarning: Objective did not converge. You might want to increase the number of iterations, check the scale of the features or consider increasing regularisation. Duality gap: 1.768e-01, tolerance: 1.073e-01\n",
      "  model = cd_fast.enet_coordinate_descent(\n",
      "/Users/jhughes/Desktop/repos/overlappogram/venv/lib/python3.9/site-packages/sklearn/linear_model/_coordinate_descent.py:678: ConvergenceWarning: Objective did not converge. You might want to increase the number of iterations, check the scale of the features or consider increasing regularisation. Duality gap: 2.277e-01, tolerance: 1.238e-01\n",
      "  model = cd_fast.enet_coordinate_descent(\n",
      "/Users/jhughes/Desktop/repos/overlappogram/venv/lib/python3.9/site-packages/sklearn/linear_model/_coordinate_descent.py:678: ConvergenceWarning: Objective did not converge. You might want to increase the number of iterations, check the scale of the features or consider increasing regularisation. Duality gap: 3.180e-01, tolerance: 1.521e-01\n",
      "  model = cd_fast.enet_coordinate_descent(\n",
      "/Users/jhughes/Desktop/repos/overlappogram/venv/lib/python3.9/site-packages/sklearn/linear_model/_coordinate_descent.py:678: ConvergenceWarning: Objective did not converge. You might want to increase the number of iterations, check the scale of the features or consider increasing regularisation. Duality gap: 4.415e-01, tolerance: 1.926e-01\n",
      "  model = cd_fast.enet_coordinate_descent(\n",
      "/Users/jhughes/Desktop/repos/overlappogram/venv/lib/python3.9/site-packages/sklearn/linear_model/_coordinate_descent.py:678: ConvergenceWarning: Objective did not converge. You might want to increase the number of iterations, check the scale of the features or consider increasing regularisation. Duality gap: 5.941e-01, tolerance: 2.434e-01\n",
      "  model = cd_fast.enet_coordinate_descent(\n",
      "/Users/jhughes/Desktop/repos/overlappogram/venv/lib/python3.9/site-packages/sklearn/linear_model/_coordinate_descent.py:678: ConvergenceWarning: Objective did not converge. You might want to increase the number of iterations, check the scale of the features or consider increasing regularisation. Duality gap: 7.576e-01, tolerance: 3.029e-01\n",
      "  model = cd_fast.enet_coordinate_descent(\n",
      "/Users/jhughes/Desktop/repos/overlappogram/venv/lib/python3.9/site-packages/sklearn/linear_model/_coordinate_descent.py:678: ConvergenceWarning: Objective did not converge. You might want to increase the number of iterations, check the scale of the features or consider increasing regularisation. Duality gap: 9.397e-01, tolerance: 3.670e-01\n",
      "  model = cd_fast.enet_coordinate_descent(\n",
      "/Users/jhughes/Desktop/repos/overlappogram/venv/lib/python3.9/site-packages/sklearn/linear_model/_coordinate_descent.py:678: ConvergenceWarning: Objective did not converge. You might want to increase the number of iterations, check the scale of the features or consider increasing regularisation. Duality gap: 1.079e+00, tolerance: 4.194e-01\n",
      "  model = cd_fast.enet_coordinate_descent(\n",
      "/Users/jhughes/Desktop/repos/overlappogram/venv/lib/python3.9/site-packages/sklearn/linear_model/_coordinate_descent.py:678: ConvergenceWarning: Objective did not converge. You might want to increase the number of iterations, check the scale of the features or consider increasing regularisation. Duality gap: 1.108e+00, tolerance: 4.346e-01\n",
      "  model = cd_fast.enet_coordinate_descent(\n",
      "/Users/jhughes/Desktop/repos/overlappogram/venv/lib/python3.9/site-packages/sklearn/linear_model/_coordinate_descent.py:678: ConvergenceWarning: Objective did not converge. You might want to increase the number of iterations, check the scale of the features or consider increasing regularisation. Duality gap: 1.038e+00, tolerance: 4.026e-01\n",
      "  model = cd_fast.enet_coordinate_descent(\n",
      "/Users/jhughes/Desktop/repos/overlappogram/venv/lib/python3.9/site-packages/sklearn/linear_model/_coordinate_descent.py:678: ConvergenceWarning: Objective did not converge. You might want to increase the number of iterations, check the scale of the features or consider increasing regularisation. Duality gap: 8.660e-01, tolerance: 3.416e-01\n",
      "  model = cd_fast.enet_coordinate_descent(\n",
      "/Users/jhughes/Desktop/repos/overlappogram/venv/lib/python3.9/site-packages/sklearn/linear_model/_coordinate_descent.py:678: ConvergenceWarning: Objective did not converge. You might want to increase the number of iterations, check the scale of the features or consider increasing regularisation. Duality gap: 6.880e-01, tolerance: 2.761e-01\n",
      "  model = cd_fast.enet_coordinate_descent(\n",
      "/Users/jhughes/Desktop/repos/overlappogram/venv/lib/python3.9/site-packages/sklearn/linear_model/_coordinate_descent.py:678: ConvergenceWarning: Objective did not converge. You might want to increase the number of iterations, check the scale of the features or consider increasing regularisation. Duality gap: 5.221e-01, tolerance: 2.199e-01\n",
      "  model = cd_fast.enet_coordinate_descent(\n",
      "/Users/jhughes/Desktop/repos/overlappogram/venv/lib/python3.9/site-packages/sklearn/linear_model/_coordinate_descent.py:678: ConvergenceWarning: Objective did not converge. You might want to increase the number of iterations, check the scale of the features or consider increasing regularisation. Duality gap: 4.005e-01, tolerance: 1.789e-01\n",
      "  model = cd_fast.enet_coordinate_descent(\n",
      "/Users/jhughes/Desktop/repos/overlappogram/venv/lib/python3.9/site-packages/sklearn/linear_model/_coordinate_descent.py:678: ConvergenceWarning: Objective did not converge. You might want to increase the number of iterations, check the scale of the features or consider increasing regularisation. Duality gap: 3.251e-01, tolerance: 1.544e-01\n",
      "  model = cd_fast.enet_coordinate_descent(\n",
      "/Users/jhughes/Desktop/repos/overlappogram/venv/lib/python3.9/site-packages/sklearn/linear_model/_coordinate_descent.py:678: ConvergenceWarning: Objective did not converge. You might want to increase the number of iterations, check the scale of the features or consider increasing regularisation. Duality gap: 2.934e-01, tolerance: 1.443e-01\n",
      "  model = cd_fast.enet_coordinate_descent(\n",
      "/Users/jhughes/Desktop/repos/overlappogram/venv/lib/python3.9/site-packages/sklearn/linear_model/_coordinate_descent.py:678: ConvergenceWarning: Objective did not converge. You might want to increase the number of iterations, check the scale of the features or consider increasing regularisation. Duality gap: 2.967e-01, tolerance: 1.453e-01\n",
      "  model = cd_fast.enet_coordinate_descent(\n",
      "/Users/jhughes/Desktop/repos/overlappogram/venv/lib/python3.9/site-packages/sklearn/linear_model/_coordinate_descent.py:678: ConvergenceWarning: Objective did not converge. You might want to increase the number of iterations, check the scale of the features or consider increasing regularisation. Duality gap: 3.303e-01, tolerance: 1.560e-01\n",
      "  model = cd_fast.enet_coordinate_descent(\n",
      "/Users/jhughes/Desktop/repos/overlappogram/venv/lib/python3.9/site-packages/sklearn/linear_model/_coordinate_descent.py:678: ConvergenceWarning: Objective did not converge. You might want to increase the number of iterations, check the scale of the features or consider increasing regularisation. Duality gap: 3.971e-01, tolerance: 1.777e-01\n",
      "  model = cd_fast.enet_coordinate_descent(\n",
      "/Users/jhughes/Desktop/repos/overlappogram/venv/lib/python3.9/site-packages/sklearn/linear_model/_coordinate_descent.py:678: ConvergenceWarning: Objective did not converge. You might want to increase the number of iterations, check the scale of the features or consider increasing regularisation. Duality gap: 5.054e-01, tolerance: 2.144e-01\n",
      "  model = cd_fast.enet_coordinate_descent(\n",
      "/Users/jhughes/Desktop/repos/overlappogram/venv/lib/python3.9/site-packages/sklearn/linear_model/_coordinate_descent.py:678: ConvergenceWarning: Objective did not converge. You might want to increase the number of iterations, check the scale of the features or consider increasing regularisation. Duality gap: 6.830e-01, tolerance: 2.742e-01\n",
      "  model = cd_fast.enet_coordinate_descent(\n",
      "/Users/jhughes/Desktop/repos/overlappogram/venv/lib/python3.9/site-packages/sklearn/linear_model/_coordinate_descent.py:678: ConvergenceWarning: Objective did not converge. You might want to increase the number of iterations, check the scale of the features or consider increasing regularisation. Duality gap: 9.478e-01, tolerance: 3.698e-01\n",
      "  model = cd_fast.enet_coordinate_descent(\n",
      "/Users/jhughes/Desktop/repos/overlappogram/venv/lib/python3.9/site-packages/sklearn/linear_model/_coordinate_descent.py:678: ConvergenceWarning: Objective did not converge. You might want to increase the number of iterations, check the scale of the features or consider increasing regularisation. Duality gap: 1.529e+00, tolerance: 5.201e-01\n",
      "  model = cd_fast.enet_coordinate_descent(\n",
      "/Users/jhughes/Desktop/repos/overlappogram/venv/lib/python3.9/site-packages/sklearn/linear_model/_coordinate_descent.py:678: ConvergenceWarning: Objective did not converge. You might want to increase the number of iterations, check the scale of the features or consider increasing regularisation. Duality gap: 2.876e+00, tolerance: 7.572e-01\n",
      "  model = cd_fast.enet_coordinate_descent(\n",
      "/Users/jhughes/Desktop/repos/overlappogram/venv/lib/python3.9/site-packages/sklearn/linear_model/_coordinate_descent.py:678: ConvergenceWarning: Objective did not converge. You might want to increase the number of iterations, check the scale of the features or consider increasing regularisation. Duality gap: 5.452e+00, tolerance: 1.147e+00\n",
      "  model = cd_fast.enet_coordinate_descent(\n",
      "/Users/jhughes/Desktop/repos/overlappogram/venv/lib/python3.9/site-packages/sklearn/linear_model/_coordinate_descent.py:678: ConvergenceWarning: Objective did not converge. You might want to increase the number of iterations, check the scale of the features or consider increasing regularisation. Duality gap: 1.058e+01, tolerance: 1.824e+00\n",
      "  model = cd_fast.enet_coordinate_descent(\n",
      "/Users/jhughes/Desktop/repos/overlappogram/venv/lib/python3.9/site-packages/sklearn/linear_model/_coordinate_descent.py:678: ConvergenceWarning: Objective did not converge. You might want to increase the number of iterations, check the scale of the features or consider increasing regularisation. Duality gap: 2.120e+01, tolerance: 3.037e+00\n",
      "  model = cd_fast.enet_coordinate_descent(\n",
      "/Users/jhughes/Desktop/repos/overlappogram/venv/lib/python3.9/site-packages/sklearn/linear_model/_coordinate_descent.py:678: ConvergenceWarning: Objective did not converge. You might want to increase the number of iterations, check the scale of the features or consider increasing regularisation. Duality gap: 4.340e+01, tolerance: 5.254e+00\n",
      "  model = cd_fast.enet_coordinate_descent(\n",
      "/Users/jhughes/Desktop/repos/overlappogram/venv/lib/python3.9/site-packages/sklearn/linear_model/_coordinate_descent.py:678: ConvergenceWarning: Objective did not converge. You might want to increase the number of iterations, check the scale of the features or consider increasing regularisation. Duality gap: 9.000e+01, tolerance: 9.333e+00\n",
      "  model = cd_fast.enet_coordinate_descent(\n",
      "/Users/jhughes/Desktop/repos/overlappogram/venv/lib/python3.9/site-packages/sklearn/linear_model/_coordinate_descent.py:678: ConvergenceWarning: Objective did not converge. You might want to increase the number of iterations, check the scale of the features or consider increasing regularisation. Duality gap: 1.844e+02, tolerance: 1.671e+01\n",
      "  model = cd_fast.enet_coordinate_descent(\n",
      "/Users/jhughes/Desktop/repos/overlappogram/venv/lib/python3.9/site-packages/sklearn/linear_model/_coordinate_descent.py:678: ConvergenceWarning: Objective did not converge. You might want to increase the number of iterations, check the scale of the features or consider increasing regularisation. Duality gap: 3.611e+02, tolerance: 2.931e+01\n",
      "  model = cd_fast.enet_coordinate_descent(\n",
      "/Users/jhughes/Desktop/repos/overlappogram/venv/lib/python3.9/site-packages/sklearn/linear_model/_coordinate_descent.py:678: ConvergenceWarning: Objective did not converge. You might want to increase the number of iterations, check the scale of the features or consider increasing regularisation. Duality gap: 6.519e+02, tolerance: 4.871e+01\n",
      "  model = cd_fast.enet_coordinate_descent(\n",
      "/Users/jhughes/Desktop/repos/overlappogram/venv/lib/python3.9/site-packages/sklearn/linear_model/_coordinate_descent.py:678: ConvergenceWarning: Objective did not converge. You might want to increase the number of iterations, check the scale of the features or consider increasing regularisation. Duality gap: 1.060e+03, tolerance: 7.471e+01\n",
      "  model = cd_fast.enet_coordinate_descent(\n",
      "/Users/jhughes/Desktop/repos/overlappogram/venv/lib/python3.9/site-packages/sklearn/linear_model/_coordinate_descent.py:678: ConvergenceWarning: Objective did not converge. You might want to increase the number of iterations, check the scale of the features or consider increasing regularisation. Duality gap: 1.542e+03, tolerance: 1.044e+02\n",
      "  model = cd_fast.enet_coordinate_descent(\n",
      "/Users/jhughes/Desktop/repos/overlappogram/venv/lib/python3.9/site-packages/sklearn/linear_model/_coordinate_descent.py:678: ConvergenceWarning: Objective did not converge. You might want to increase the number of iterations, check the scale of the features or consider increasing regularisation. Duality gap: 2.009e+03, tolerance: 1.326e+02\n",
      "  model = cd_fast.enet_coordinate_descent(\n",
      "/Users/jhughes/Desktop/repos/overlappogram/venv/lib/python3.9/site-packages/sklearn/linear_model/_coordinate_descent.py:678: ConvergenceWarning: Objective did not converge. You might want to increase the number of iterations, check the scale of the features or consider increasing regularisation. Duality gap: 2.362e+03, tolerance: 1.537e+02\n",
      "  model = cd_fast.enet_coordinate_descent(\n",
      "/Users/jhughes/Desktop/repos/overlappogram/venv/lib/python3.9/site-packages/sklearn/linear_model/_coordinate_descent.py:678: ConvergenceWarning: Objective did not converge. You might want to increase the number of iterations, check the scale of the features or consider increasing regularisation. Duality gap: 2.514e+03, tolerance: 1.627e+02\n",
      "  model = cd_fast.enet_coordinate_descent(\n",
      "/Users/jhughes/Desktop/repos/overlappogram/venv/lib/python3.9/site-packages/sklearn/linear_model/_coordinate_descent.py:678: ConvergenceWarning: Objective did not converge. You might want to increase the number of iterations, check the scale of the features or consider increasing regularisation. Duality gap: 2.424e+03, tolerance: 1.574e+02\n",
      "  model = cd_fast.enet_coordinate_descent(\n",
      "/Users/jhughes/Desktop/repos/overlappogram/venv/lib/python3.9/site-packages/sklearn/linear_model/_coordinate_descent.py:678: ConvergenceWarning: Objective did not converge. You might want to increase the number of iterations, check the scale of the features or consider increasing regularisation. Duality gap: 2.115e+03, tolerance: 1.390e+02\n",
      "  model = cd_fast.enet_coordinate_descent(\n",
      "/Users/jhughes/Desktop/repos/overlappogram/venv/lib/python3.9/site-packages/sklearn/linear_model/_coordinate_descent.py:678: ConvergenceWarning: Objective did not converge. You might want to increase the number of iterations, check the scale of the features or consider increasing regularisation. Duality gap: 1.673e+03, tolerance: 1.124e+02\n",
      "  model = cd_fast.enet_coordinate_descent(\n",
      "/Users/jhughes/Desktop/repos/overlappogram/venv/lib/python3.9/site-packages/sklearn/linear_model/_coordinate_descent.py:678: ConvergenceWarning: Objective did not converge. You might want to increase the number of iterations, check the scale of the features or consider increasing regularisation. Duality gap: 1.206e+03, tolerance: 8.375e+01\n",
      "  model = cd_fast.enet_coordinate_descent(\n",
      "/Users/jhughes/Desktop/repos/overlappogram/venv/lib/python3.9/site-packages/sklearn/linear_model/_coordinate_descent.py:678: ConvergenceWarning: Objective did not converge. You might want to increase the number of iterations, check the scale of the features or consider increasing regularisation. Duality gap: 7.979e+02, tolerance: 5.812e+01\n",
      "  model = cd_fast.enet_coordinate_descent(\n",
      "/Users/jhughes/Desktop/repos/overlappogram/venv/lib/python3.9/site-packages/sklearn/linear_model/_coordinate_descent.py:678: ConvergenceWarning: Objective did not converge. You might want to increase the number of iterations, check the scale of the features or consider increasing regularisation. Duality gap: 4.937e+02, tolerance: 3.830e+01\n",
      "  model = cd_fast.enet_coordinate_descent(\n",
      "/Users/jhughes/Desktop/repos/overlappogram/venv/lib/python3.9/site-packages/sklearn/linear_model/_coordinate_descent.py:678: ConvergenceWarning: Objective did not converge. You might want to increase the number of iterations, check the scale of the features or consider increasing regularisation. Duality gap: 2.957e+02, tolerance: 2.476e+01\n",
      "  model = cd_fast.enet_coordinate_descent(\n",
      "/Users/jhughes/Desktop/repos/overlappogram/venv/lib/python3.9/site-packages/sklearn/linear_model/_coordinate_descent.py:678: ConvergenceWarning: Objective did not converge. You might want to increase the number of iterations, check the scale of the features or consider increasing regularisation. Duality gap: 1.803e+02, tolerance: 1.640e+01\n",
      "  model = cd_fast.enet_coordinate_descent(\n",
      "/Users/jhughes/Desktop/repos/overlappogram/venv/lib/python3.9/site-packages/sklearn/linear_model/_coordinate_descent.py:678: ConvergenceWarning: Objective did not converge. You might want to increase the number of iterations, check the scale of the features or consider increasing regularisation. Duality gap: 1.174e+02, tolerance: 1.156e+01\n",
      "  model = cd_fast.enet_coordinate_descent(\n",
      "/Users/jhughes/Desktop/repos/overlappogram/venv/lib/python3.9/site-packages/sklearn/linear_model/_coordinate_descent.py:678: ConvergenceWarning: Objective did not converge. You might want to increase the number of iterations, check the scale of the features or consider increasing regularisation. Duality gap: 8.376e+01, tolerance: 8.812e+00\n",
      "  model = cd_fast.enet_coordinate_descent(\n",
      "/Users/jhughes/Desktop/repos/overlappogram/venv/lib/python3.9/site-packages/sklearn/linear_model/_coordinate_descent.py:678: ConvergenceWarning: Objective did not converge. You might want to increase the number of iterations, check the scale of the features or consider increasing regularisation. Duality gap: 6.563e+01, tolerance: 7.261e+00\n",
      "  model = cd_fast.enet_coordinate_descent(\n",
      "/Users/jhughes/Desktop/repos/overlappogram/venv/lib/python3.9/site-packages/sklearn/linear_model/_coordinate_descent.py:678: ConvergenceWarning: Objective did not converge. You might want to increase the number of iterations, check the scale of the features or consider increasing regularisation. Duality gap: 5.569e+01, tolerance: 6.384e+00\n",
      "  model = cd_fast.enet_coordinate_descent(\n",
      "/Users/jhughes/Desktop/repos/overlappogram/venv/lib/python3.9/site-packages/sklearn/linear_model/_coordinate_descent.py:678: ConvergenceWarning: Objective did not converge. You might want to increase the number of iterations, check the scale of the features or consider increasing regularisation. Duality gap: 5.027e+01, tolerance: 5.892e+00\n",
      "  model = cd_fast.enet_coordinate_descent(\n",
      "/Users/jhughes/Desktop/repos/overlappogram/venv/lib/python3.9/site-packages/sklearn/linear_model/_coordinate_descent.py:678: ConvergenceWarning: Objective did not converge. You might want to increase the number of iterations, check the scale of the features or consider increasing regularisation. Duality gap: 4.735e+01, tolerance: 5.623e+00\n",
      "  model = cd_fast.enet_coordinate_descent(\n",
      "/Users/jhughes/Desktop/repos/overlappogram/venv/lib/python3.9/site-packages/sklearn/linear_model/_coordinate_descent.py:678: ConvergenceWarning: Objective did not converge. You might want to increase the number of iterations, check the scale of the features or consider increasing regularisation. Duality gap: 4.580e+01, tolerance: 5.478e+00\n",
      "  model = cd_fast.enet_coordinate_descent(\n",
      "/Users/jhughes/Desktop/repos/overlappogram/venv/lib/python3.9/site-packages/sklearn/linear_model/_coordinate_descent.py:678: ConvergenceWarning: Objective did not converge. You might want to increase the number of iterations, check the scale of the features or consider increasing regularisation. Duality gap: 4.499e+01, tolerance: 5.403e+00\n",
      "  model = cd_fast.enet_coordinate_descent(\n",
      "/Users/jhughes/Desktop/repos/overlappogram/venv/lib/python3.9/site-packages/sklearn/linear_model/_coordinate_descent.py:678: ConvergenceWarning: Objective did not converge. You might want to increase the number of iterations, check the scale of the features or consider increasing regularisation. Duality gap: 4.460e+01, tolerance: 5.367e+00\n",
      "  model = cd_fast.enet_coordinate_descent(\n",
      "/Users/jhughes/Desktop/repos/overlappogram/venv/lib/python3.9/site-packages/sklearn/linear_model/_coordinate_descent.py:678: ConvergenceWarning: Objective did not converge. You might want to increase the number of iterations, check the scale of the features or consider increasing regularisation. Duality gap: 4.448e+01, tolerance: 5.355e+00\n",
      "  model = cd_fast.enet_coordinate_descent(\n",
      "/Users/jhughes/Desktop/repos/overlappogram/venv/lib/python3.9/site-packages/sklearn/linear_model/_coordinate_descent.py:678: ConvergenceWarning: Objective did not converge. You might want to increase the number of iterations, check the scale of the features or consider increasing regularisation. Duality gap: 4.455e+01, tolerance: 5.362e+00\n",
      "  model = cd_fast.enet_coordinate_descent(\n",
      "/Users/jhughes/Desktop/repos/overlappogram/venv/lib/python3.9/site-packages/sklearn/linear_model/_coordinate_descent.py:678: ConvergenceWarning: Objective did not converge. You might want to increase the number of iterations, check the scale of the features or consider increasing regularisation. Duality gap: 4.478e+01, tolerance: 5.384e+00\n",
      "  model = cd_fast.enet_coordinate_descent(\n",
      "/Users/jhughes/Desktop/repos/overlappogram/venv/lib/python3.9/site-packages/sklearn/linear_model/_coordinate_descent.py:678: ConvergenceWarning: Objective did not converge. You might want to increase the number of iterations, check the scale of the features or consider increasing regularisation. Duality gap: 4.518e+01, tolerance: 5.421e+00\n",
      "  model = cd_fast.enet_coordinate_descent(\n",
      "/Users/jhughes/Desktop/repos/overlappogram/venv/lib/python3.9/site-packages/sklearn/linear_model/_coordinate_descent.py:678: ConvergenceWarning: Objective did not converge. You might want to increase the number of iterations, check the scale of the features or consider increasing regularisation. Duality gap: 4.577e+01, tolerance: 5.476e+00\n",
      "  model = cd_fast.enet_coordinate_descent(\n",
      "/Users/jhughes/Desktop/repos/overlappogram/venv/lib/python3.9/site-packages/sklearn/linear_model/_coordinate_descent.py:678: ConvergenceWarning: Objective did not converge. You might want to increase the number of iterations, check the scale of the features or consider increasing regularisation. Duality gap: 4.658e+01, tolerance: 5.552e+00\n",
      "  model = cd_fast.enet_coordinate_descent(\n",
      "/Users/jhughes/Desktop/repos/overlappogram/venv/lib/python3.9/site-packages/sklearn/linear_model/_coordinate_descent.py:678: ConvergenceWarning: Objective did not converge. You might want to increase the number of iterations, check the scale of the features or consider increasing regularisation. Duality gap: 4.768e+01, tolerance: 5.653e+00\n",
      "  model = cd_fast.enet_coordinate_descent(\n",
      "/Users/jhughes/Desktop/repos/overlappogram/venv/lib/python3.9/site-packages/sklearn/linear_model/_coordinate_descent.py:678: ConvergenceWarning: Objective did not converge. You might want to increase the number of iterations, check the scale of the features or consider increasing regularisation. Duality gap: 4.910e+01, tolerance: 5.785e+00\n",
      "  model = cd_fast.enet_coordinate_descent(\n",
      "/Users/jhughes/Desktop/repos/overlappogram/venv/lib/python3.9/site-packages/sklearn/linear_model/_coordinate_descent.py:678: ConvergenceWarning: Objective did not converge. You might want to increase the number of iterations, check the scale of the features or consider increasing regularisation. Duality gap: 5.094e+01, tolerance: 5.953e+00\n",
      "  model = cd_fast.enet_coordinate_descent(\n",
      "/Users/jhughes/Desktop/repos/overlappogram/venv/lib/python3.9/site-packages/sklearn/linear_model/_coordinate_descent.py:678: ConvergenceWarning: Objective did not converge. You might want to increase the number of iterations, check the scale of the features or consider increasing regularisation. Duality gap: 5.327e+01, tolerance: 6.166e+00\n",
      "  model = cd_fast.enet_coordinate_descent(\n",
      "/Users/jhughes/Desktop/repos/overlappogram/venv/lib/python3.9/site-packages/sklearn/linear_model/_coordinate_descent.py:678: ConvergenceWarning: Objective did not converge. You might want to increase the number of iterations, check the scale of the features or consider increasing regularisation. Duality gap: 5.624e+01, tolerance: 6.433e+00\n",
      "  model = cd_fast.enet_coordinate_descent(\n",
      "/Users/jhughes/Desktop/repos/overlappogram/venv/lib/python3.9/site-packages/sklearn/linear_model/_coordinate_descent.py:678: ConvergenceWarning: Objective did not converge. You might want to increase the number of iterations, check the scale of the features or consider increasing regularisation. Duality gap: 5.997e+01, tolerance: 6.765e+00\n",
      "  model = cd_fast.enet_coordinate_descent(\n",
      "/Users/jhughes/Desktop/repos/overlappogram/venv/lib/python3.9/site-packages/sklearn/linear_model/_coordinate_descent.py:678: ConvergenceWarning: Objective did not converge. You might want to increase the number of iterations, check the scale of the features or consider increasing regularisation. Duality gap: 6.458e+01, tolerance: 7.169e+00\n",
      "  model = cd_fast.enet_coordinate_descent(\n",
      "/Users/jhughes/Desktop/repos/overlappogram/venv/lib/python3.9/site-packages/sklearn/linear_model/_coordinate_descent.py:678: ConvergenceWarning: Objective did not converge. You might want to increase the number of iterations, check the scale of the features or consider increasing regularisation. Duality gap: 7.012e+01, tolerance: 7.651e+00\n",
      "  model = cd_fast.enet_coordinate_descent(\n",
      "/Users/jhughes/Desktop/repos/overlappogram/venv/lib/python3.9/site-packages/sklearn/linear_model/_coordinate_descent.py:678: ConvergenceWarning: Objective did not converge. You might want to increase the number of iterations, check the scale of the features or consider increasing regularisation. Duality gap: 7.664e+01, tolerance: 8.211e+00\n",
      "  model = cd_fast.enet_coordinate_descent(\n",
      "/Users/jhughes/Desktop/repos/overlappogram/venv/lib/python3.9/site-packages/sklearn/linear_model/_coordinate_descent.py:678: ConvergenceWarning: Objective did not converge. You might want to increase the number of iterations, check the scale of the features or consider increasing regularisation. Duality gap: 8.414e+01, tolerance: 8.844e+00\n",
      "  model = cd_fast.enet_coordinate_descent(\n",
      "/Users/jhughes/Desktop/repos/overlappogram/venv/lib/python3.9/site-packages/sklearn/linear_model/_coordinate_descent.py:678: ConvergenceWarning: Objective did not converge. You might want to increase the number of iterations, check the scale of the features or consider increasing regularisation. Duality gap: 9.253e+01, tolerance: 9.543e+00\n",
      "  model = cd_fast.enet_coordinate_descent(\n",
      "/Users/jhughes/Desktop/repos/overlappogram/venv/lib/python3.9/site-packages/sklearn/linear_model/_coordinate_descent.py:678: ConvergenceWarning: Objective did not converge. You might want to increase the number of iterations, check the scale of the features or consider increasing regularisation. Duality gap: 1.017e+02, tolerance: 1.029e+01\n",
      "  model = cd_fast.enet_coordinate_descent(\n",
      "/Users/jhughes/Desktop/repos/overlappogram/venv/lib/python3.9/site-packages/sklearn/linear_model/_coordinate_descent.py:678: ConvergenceWarning: Objective did not converge. You might want to increase the number of iterations, check the scale of the features or consider increasing regularisation. Duality gap: 1.114e+02, tolerance: 1.107e+01\n",
      "  model = cd_fast.enet_coordinate_descent(\n",
      "/Users/jhughes/Desktop/repos/overlappogram/venv/lib/python3.9/site-packages/sklearn/linear_model/_coordinate_descent.py:678: ConvergenceWarning: Objective did not converge. You might want to increase the number of iterations, check the scale of the features or consider increasing regularisation. Duality gap: 1.213e+02, tolerance: 1.187e+01\n",
      "  model = cd_fast.enet_coordinate_descent(\n",
      "/Users/jhughes/Desktop/repos/overlappogram/venv/lib/python3.9/site-packages/sklearn/linear_model/_coordinate_descent.py:678: ConvergenceWarning: Objective did not converge. You might want to increase the number of iterations, check the scale of the features or consider increasing regularisation. Duality gap: 1.313e+02, tolerance: 1.265e+01\n",
      "  model = cd_fast.enet_coordinate_descent(\n",
      "/Users/jhughes/Desktop/repos/overlappogram/venv/lib/python3.9/site-packages/sklearn/linear_model/_coordinate_descent.py:678: ConvergenceWarning: Objective did not converge. You might want to increase the number of iterations, check the scale of the features or consider increasing regularisation. Duality gap: 1.409e+02, tolerance: 1.340e+01\n",
      "  model = cd_fast.enet_coordinate_descent(\n",
      "/Users/jhughes/Desktop/repos/overlappogram/venv/lib/python3.9/site-packages/sklearn/linear_model/_coordinate_descent.py:678: ConvergenceWarning: Objective did not converge. You might want to increase the number of iterations, check the scale of the features or consider increasing regularisation. Duality gap: 1.496e+02, tolerance: 1.408e+01\n",
      "  model = cd_fast.enet_coordinate_descent(\n",
      "/Users/jhughes/Desktop/repos/overlappogram/venv/lib/python3.9/site-packages/sklearn/linear_model/_coordinate_descent.py:678: ConvergenceWarning: Objective did not converge. You might want to increase the number of iterations, check the scale of the features or consider increasing regularisation. Duality gap: 1.568e+02, tolerance: 1.463e+01\n",
      "  model = cd_fast.enet_coordinate_descent(\n",
      "/Users/jhughes/Desktop/repos/overlappogram/venv/lib/python3.9/site-packages/sklearn/linear_model/_coordinate_descent.py:678: ConvergenceWarning: Objective did not converge. You might want to increase the number of iterations, check the scale of the features or consider increasing regularisation. Duality gap: 1.620e+02, tolerance: 1.502e+01\n",
      "  model = cd_fast.enet_coordinate_descent(\n",
      "/Users/jhughes/Desktop/repos/overlappogram/venv/lib/python3.9/site-packages/sklearn/linear_model/_coordinate_descent.py:678: ConvergenceWarning: Objective did not converge. You might want to increase the number of iterations, check the scale of the features or consider increasing regularisation. Duality gap: 1.652e+02, tolerance: 1.526e+01\n",
      "  model = cd_fast.enet_coordinate_descent(\n",
      "/Users/jhughes/Desktop/repos/overlappogram/venv/lib/python3.9/site-packages/sklearn/linear_model/_coordinate_descent.py:678: ConvergenceWarning: Objective did not converge. You might want to increase the number of iterations, check the scale of the features or consider increasing regularisation. Duality gap: 1.662e+02, tolerance: 1.534e+01\n",
      "  model = cd_fast.enet_coordinate_descent(\n",
      "/Users/jhughes/Desktop/repos/overlappogram/venv/lib/python3.9/site-packages/sklearn/linear_model/_coordinate_descent.py:678: ConvergenceWarning: Objective did not converge. You might want to increase the number of iterations, check the scale of the features or consider increasing regularisation. Duality gap: 1.649e+02, tolerance: 1.524e+01\n",
      "  model = cd_fast.enet_coordinate_descent(\n",
      "/Users/jhughes/Desktop/repos/overlappogram/venv/lib/python3.9/site-packages/sklearn/linear_model/_coordinate_descent.py:678: ConvergenceWarning: Objective did not converge. You might want to increase the number of iterations, check the scale of the features or consider increasing regularisation. Duality gap: 1.612e+02, tolerance: 1.496e+01\n",
      "  model = cd_fast.enet_coordinate_descent(\n",
      "/Users/jhughes/Desktop/repos/overlappogram/venv/lib/python3.9/site-packages/sklearn/linear_model/_coordinate_descent.py:678: ConvergenceWarning: Objective did not converge. You might want to increase the number of iterations, check the scale of the features or consider increasing regularisation. Duality gap: 1.557e+02, tolerance: 1.454e+01\n",
      "  model = cd_fast.enet_coordinate_descent(\n",
      "/Users/jhughes/Desktop/repos/overlappogram/venv/lib/python3.9/site-packages/sklearn/linear_model/_coordinate_descent.py:678: ConvergenceWarning: Objective did not converge. You might want to increase the number of iterations, check the scale of the features or consider increasing regularisation. Duality gap: 1.488e+02, tolerance: 1.401e+01\n",
      "  model = cd_fast.enet_coordinate_descent(\n",
      "/Users/jhughes/Desktop/repos/overlappogram/venv/lib/python3.9/site-packages/sklearn/linear_model/_coordinate_descent.py:678: ConvergenceWarning: Objective did not converge. You might want to increase the number of iterations, check the scale of the features or consider increasing regularisation. Duality gap: 1.410e+02, tolerance: 1.340e+01\n",
      "  model = cd_fast.enet_coordinate_descent(\n",
      "/Users/jhughes/Desktop/repos/overlappogram/venv/lib/python3.9/site-packages/sklearn/linear_model/_coordinate_descent.py:678: ConvergenceWarning: Objective did not converge. You might want to increase the number of iterations, check the scale of the features or consider increasing regularisation. Duality gap: 1.323e+02, tolerance: 1.273e+01\n",
      "  model = cd_fast.enet_coordinate_descent(\n",
      "/Users/jhughes/Desktop/repos/overlappogram/venv/lib/python3.9/site-packages/sklearn/linear_model/_coordinate_descent.py:678: ConvergenceWarning: Objective did not converge. You might want to increase the number of iterations, check the scale of the features or consider increasing regularisation. Duality gap: 1.232e+02, tolerance: 1.201e+01\n",
      "  model = cd_fast.enet_coordinate_descent(\n",
      "/Users/jhughes/Desktop/repos/overlappogram/venv/lib/python3.9/site-packages/sklearn/linear_model/_coordinate_descent.py:678: ConvergenceWarning: Objective did not converge. You might want to increase the number of iterations, check the scale of the features or consider increasing regularisation. Duality gap: 1.140e+02, tolerance: 1.129e+01\n",
      "  model = cd_fast.enet_coordinate_descent(\n",
      "/Users/jhughes/Desktop/repos/overlappogram/venv/lib/python3.9/site-packages/sklearn/linear_model/_coordinate_descent.py:678: ConvergenceWarning: Objective did not converge. You might want to increase the number of iterations, check the scale of the features or consider increasing regularisation. Duality gap: 1.052e+02, tolerance: 1.058e+01\n",
      "  model = cd_fast.enet_coordinate_descent(\n",
      "/Users/jhughes/Desktop/repos/overlappogram/venv/lib/python3.9/site-packages/sklearn/linear_model/_coordinate_descent.py:678: ConvergenceWarning: Objective did not converge. You might want to increase the number of iterations, check the scale of the features or consider increasing regularisation. Duality gap: 9.688e+01, tolerance: 9.900e+00\n",
      "  model = cd_fast.enet_coordinate_descent(\n",
      "/Users/jhughes/Desktop/repos/overlappogram/venv/lib/python3.9/site-packages/sklearn/linear_model/_coordinate_descent.py:678: ConvergenceWarning: Objective did not converge. You might want to increase the number of iterations, check the scale of the features or consider increasing regularisation. Duality gap: 8.915e+01, tolerance: 9.262e+00\n",
      "  model = cd_fast.enet_coordinate_descent(\n",
      "/Users/jhughes/Desktop/repos/overlappogram/venv/lib/python3.9/site-packages/sklearn/linear_model/_coordinate_descent.py:678: ConvergenceWarning: Objective did not converge. You might want to increase the number of iterations, check the scale of the features or consider increasing regularisation. Duality gap: 8.204e+01, tolerance: 8.667e+00\n",
      "  model = cd_fast.enet_coordinate_descent(\n",
      "/Users/jhughes/Desktop/repos/overlappogram/venv/lib/python3.9/site-packages/sklearn/linear_model/_coordinate_descent.py:678: ConvergenceWarning: Objective did not converge. You might want to increase the number of iterations, check the scale of the features or consider increasing regularisation. Duality gap: 7.562e+01, tolerance: 8.123e+00\n",
      "  model = cd_fast.enet_coordinate_descent(\n",
      "/Users/jhughes/Desktop/repos/overlappogram/venv/lib/python3.9/site-packages/sklearn/linear_model/_coordinate_descent.py:678: ConvergenceWarning: Objective did not converge. You might want to increase the number of iterations, check the scale of the features or consider increasing regularisation. Duality gap: 6.990e+01, tolerance: 7.632e+00\n",
      "  model = cd_fast.enet_coordinate_descent(\n",
      "/Users/jhughes/Desktop/repos/overlappogram/venv/lib/python3.9/site-packages/sklearn/linear_model/_coordinate_descent.py:678: ConvergenceWarning: Objective did not converge. You might want to increase the number of iterations, check the scale of the features or consider increasing regularisation. Duality gap: 6.484e+01, tolerance: 7.193e+00\n",
      "  model = cd_fast.enet_coordinate_descent(\n",
      "/Users/jhughes/Desktop/repos/overlappogram/venv/lib/python3.9/site-packages/sklearn/linear_model/_coordinate_descent.py:678: ConvergenceWarning: Objective did not converge. You might want to increase the number of iterations, check the scale of the features or consider increasing regularisation. Duality gap: 6.037e+01, tolerance: 6.800e+00\n",
      "  model = cd_fast.enet_coordinate_descent(\n",
      "/Users/jhughes/Desktop/repos/overlappogram/venv/lib/python3.9/site-packages/sklearn/linear_model/_coordinate_descent.py:678: ConvergenceWarning: Objective did not converge. You might want to increase the number of iterations, check the scale of the features or consider increasing regularisation. Duality gap: 5.644e+01, tolerance: 6.451e+00\n",
      "  model = cd_fast.enet_coordinate_descent(\n",
      "/Users/jhughes/Desktop/repos/overlappogram/venv/lib/python3.9/site-packages/sklearn/linear_model/_coordinate_descent.py:678: ConvergenceWarning: Objective did not converge. You might want to increase the number of iterations, check the scale of the features or consider increasing regularisation. Duality gap: 5.301e+01, tolerance: 6.142e+00\n",
      "  model = cd_fast.enet_coordinate_descent(\n",
      "/Users/jhughes/Desktop/repos/overlappogram/venv/lib/python3.9/site-packages/sklearn/linear_model/_coordinate_descent.py:678: ConvergenceWarning: Objective did not converge. You might want to increase the number of iterations, check the scale of the features or consider increasing regularisation. Duality gap: 5.002e+01, tolerance: 5.869e+00\n",
      "  model = cd_fast.enet_coordinate_descent(\n",
      "/Users/jhughes/Desktop/repos/overlappogram/venv/lib/python3.9/site-packages/sklearn/linear_model/_coordinate_descent.py:678: ConvergenceWarning: Objective did not converge. You might want to increase the number of iterations, check the scale of the features or consider increasing regularisation. Duality gap: 4.742e+01, tolerance: 5.630e+00\n",
      "  model = cd_fast.enet_coordinate_descent(\n",
      "/Users/jhughes/Desktop/repos/overlappogram/venv/lib/python3.9/site-packages/sklearn/linear_model/_coordinate_descent.py:678: ConvergenceWarning: Objective did not converge. You might want to increase the number of iterations, check the scale of the features or consider increasing regularisation. Duality gap: 4.515e+01, tolerance: 5.418e+00\n",
      "  model = cd_fast.enet_coordinate_descent(\n",
      "/Users/jhughes/Desktop/repos/overlappogram/venv/lib/python3.9/site-packages/sklearn/linear_model/_coordinate_descent.py:678: ConvergenceWarning: Objective did not converge. You might want to increase the number of iterations, check the scale of the features or consider increasing regularisation. Duality gap: 4.315e+01, tolerance: 5.231e+00\n",
      "  model = cd_fast.enet_coordinate_descent(\n",
      "/Users/jhughes/Desktop/repos/overlappogram/venv/lib/python3.9/site-packages/sklearn/linear_model/_coordinate_descent.py:678: ConvergenceWarning: Objective did not converge. You might want to increase the number of iterations, check the scale of the features or consider increasing regularisation. Duality gap: 4.137e+01, tolerance: 5.062e+00\n",
      "  model = cd_fast.enet_coordinate_descent(\n",
      "/Users/jhughes/Desktop/repos/overlappogram/venv/lib/python3.9/site-packages/sklearn/linear_model/_coordinate_descent.py:678: ConvergenceWarning: Objective did not converge. You might want to increase the number of iterations, check the scale of the features or consider increasing regularisation. Duality gap: 3.974e+01, tolerance: 4.908e+00\n",
      "  model = cd_fast.enet_coordinate_descent(\n",
      "/Users/jhughes/Desktop/repos/overlappogram/venv/lib/python3.9/site-packages/sklearn/linear_model/_coordinate_descent.py:678: ConvergenceWarning: Objective did not converge. You might want to increase the number of iterations, check the scale of the features or consider increasing regularisation. Duality gap: 3.820e+01, tolerance: 4.760e+00\n",
      "  model = cd_fast.enet_coordinate_descent(\n",
      "/Users/jhughes/Desktop/repos/overlappogram/venv/lib/python3.9/site-packages/sklearn/linear_model/_coordinate_descent.py:678: ConvergenceWarning: Objective did not converge. You might want to increase the number of iterations, check the scale of the features or consider increasing regularisation. Duality gap: 3.669e+01, tolerance: 4.614e+00\n",
      "  model = cd_fast.enet_coordinate_descent(\n",
      "/Users/jhughes/Desktop/repos/overlappogram/venv/lib/python3.9/site-packages/sklearn/linear_model/_coordinate_descent.py:678: ConvergenceWarning: Objective did not converge. You might want to increase the number of iterations, check the scale of the features or consider increasing regularisation. Duality gap: 3.516e+01, tolerance: 4.466e+00\n",
      "  model = cd_fast.enet_coordinate_descent(\n",
      "/Users/jhughes/Desktop/repos/overlappogram/venv/lib/python3.9/site-packages/sklearn/linear_model/_coordinate_descent.py:678: ConvergenceWarning: Objective did not converge. You might want to increase the number of iterations, check the scale of the features or consider increasing regularisation. Duality gap: 3.360e+01, tolerance: 4.313e+00\n",
      "  model = cd_fast.enet_coordinate_descent(\n",
      "/Users/jhughes/Desktop/repos/overlappogram/venv/lib/python3.9/site-packages/sklearn/linear_model/_coordinate_descent.py:678: ConvergenceWarning: Objective did not converge. You might want to increase the number of iterations, check the scale of the features or consider increasing regularisation. Duality gap: 3.203e+01, tolerance: 4.157e+00\n",
      "  model = cd_fast.enet_coordinate_descent(\n",
      "/Users/jhughes/Desktop/repos/overlappogram/venv/lib/python3.9/site-packages/sklearn/linear_model/_coordinate_descent.py:678: ConvergenceWarning: Objective did not converge. You might want to increase the number of iterations, check the scale of the features or consider increasing regularisation. Duality gap: 3.048e+01, tolerance: 4.000e+00\n",
      "  model = cd_fast.enet_coordinate_descent(\n"
     ]
    },
    {
     "ename": "KeyboardInterrupt",
     "evalue": "",
     "output_type": "error",
     "traceback": [
      "\u001B[0;31m---------------------------------------------------------------------------\u001B[0m",
      "\u001B[0;31mKeyboardInterrupt\u001B[0m                         Traceback (most recent call last)",
      "Cell \u001B[0;32mIn[83], line 1\u001B[0m\n\u001B[0;32m----> 1\u001B[0m \u001B[43menet\u001B[49m\u001B[38;5;241;43m.\u001B[39;49m\u001B[43mfit\u001B[49m\u001B[43m(\u001B[49m\u001B[43mX\u001B[49m\u001B[43m[\u001B[49m\u001B[38;5;241;43m425\u001B[39;49m\u001B[43m]\u001B[49m\u001B[38;5;241;43m.\u001B[39;49m\u001B[43mreshape\u001B[49m\u001B[43m(\u001B[49m\u001B[38;5;241;43m1\u001B[39;49m\u001B[43m,\u001B[49m\u001B[43m \u001B[49m\u001B[38;5;241;43m-\u001B[39;49m\u001B[38;5;241;43m1\u001B[39;49m\u001B[43m)\u001B[49m\u001B[43m,\u001B[49m\u001B[43m \u001B[49m\u001B[43my\u001B[49m\u001B[38;5;241;43m.\u001B[39;49m\u001B[43mtranspose\u001B[49m\u001B[43m(\u001B[49m\u001B[43m)\u001B[49m\u001B[43m[\u001B[49m\u001B[38;5;241;43m425\u001B[39;49m\u001B[43m]\u001B[49m\u001B[38;5;241;43m.\u001B[39;49m\u001B[43mreshape\u001B[49m\u001B[43m(\u001B[49m\u001B[38;5;241;43m1\u001B[39;49m\u001B[43m,\u001B[49m\u001B[43m \u001B[49m\u001B[38;5;241;43m-\u001B[39;49m\u001B[38;5;241;43m1\u001B[39;49m\u001B[43m)\u001B[49m\u001B[43m)\u001B[49m\n",
      "File \u001B[0;32m~/Desktop/repos/overlappogram/venv/lib/python3.9/site-packages/sklearn/base.py:1474\u001B[0m, in \u001B[0;36m_fit_context.<locals>.decorator.<locals>.wrapper\u001B[0;34m(estimator, *args, **kwargs)\u001B[0m\n\u001B[1;32m   1467\u001B[0m     estimator\u001B[38;5;241m.\u001B[39m_validate_params()\n\u001B[1;32m   1469\u001B[0m \u001B[38;5;28;01mwith\u001B[39;00m config_context(\n\u001B[1;32m   1470\u001B[0m     skip_parameter_validation\u001B[38;5;241m=\u001B[39m(\n\u001B[1;32m   1471\u001B[0m         prefer_skip_nested_validation \u001B[38;5;129;01mor\u001B[39;00m global_skip_validation\n\u001B[1;32m   1472\u001B[0m     )\n\u001B[1;32m   1473\u001B[0m ):\n\u001B[0;32m-> 1474\u001B[0m     \u001B[38;5;28;01mreturn\u001B[39;00m \u001B[43mfit_method\u001B[49m\u001B[43m(\u001B[49m\u001B[43mestimator\u001B[49m\u001B[43m,\u001B[49m\u001B[43m \u001B[49m\u001B[38;5;241;43m*\u001B[39;49m\u001B[43margs\u001B[49m\u001B[43m,\u001B[49m\u001B[43m \u001B[49m\u001B[38;5;241;43m*\u001B[39;49m\u001B[38;5;241;43m*\u001B[39;49m\u001B[43mkwargs\u001B[49m\u001B[43m)\u001B[49m\n",
      "File \u001B[0;32m~/Desktop/repos/overlappogram/venv/lib/python3.9/site-packages/sklearn/linear_model/_coordinate_descent.py:1050\u001B[0m, in \u001B[0;36mElasticNet.fit\u001B[0;34m(self, X, y, sample_weight, check_input)\u001B[0m\n\u001B[1;32m   1048\u001B[0m \u001B[38;5;28;01melse\u001B[39;00m:\n\u001B[1;32m   1049\u001B[0m     this_Xy \u001B[38;5;241m=\u001B[39m \u001B[38;5;28;01mNone\u001B[39;00m\n\u001B[0;32m-> 1050\u001B[0m _, this_coef, this_dual_gap, this_iter \u001B[38;5;241m=\u001B[39m \u001B[38;5;28;43mself\u001B[39;49m\u001B[38;5;241;43m.\u001B[39;49m\u001B[43mpath\u001B[49m\u001B[43m(\u001B[49m\n\u001B[1;32m   1051\u001B[0m \u001B[43m    \u001B[49m\u001B[43mX\u001B[49m\u001B[43m,\u001B[49m\n\u001B[1;32m   1052\u001B[0m \u001B[43m    \u001B[49m\u001B[43my\u001B[49m\u001B[43m[\u001B[49m\u001B[43m:\u001B[49m\u001B[43m,\u001B[49m\u001B[43m \u001B[49m\u001B[43mk\u001B[49m\u001B[43m]\u001B[49m\u001B[43m,\u001B[49m\n\u001B[1;32m   1053\u001B[0m \u001B[43m    \u001B[49m\u001B[43ml1_ratio\u001B[49m\u001B[38;5;241;43m=\u001B[39;49m\u001B[38;5;28;43mself\u001B[39;49m\u001B[38;5;241;43m.\u001B[39;49m\u001B[43ml1_ratio\u001B[49m\u001B[43m,\u001B[49m\n\u001B[1;32m   1054\u001B[0m \u001B[43m    \u001B[49m\u001B[43meps\u001B[49m\u001B[38;5;241;43m=\u001B[39;49m\u001B[38;5;28;43;01mNone\u001B[39;49;00m\u001B[43m,\u001B[49m\n\u001B[1;32m   1055\u001B[0m \u001B[43m    \u001B[49m\u001B[43mn_alphas\u001B[49m\u001B[38;5;241;43m=\u001B[39;49m\u001B[38;5;28;43;01mNone\u001B[39;49;00m\u001B[43m,\u001B[49m\n\u001B[1;32m   1056\u001B[0m \u001B[43m    \u001B[49m\u001B[43malphas\u001B[49m\u001B[38;5;241;43m=\u001B[39;49m\u001B[43m[\u001B[49m\u001B[43malpha\u001B[49m\u001B[43m]\u001B[49m\u001B[43m,\u001B[49m\n\u001B[1;32m   1057\u001B[0m \u001B[43m    \u001B[49m\u001B[43mprecompute\u001B[49m\u001B[38;5;241;43m=\u001B[39;49m\u001B[43mprecompute\u001B[49m\u001B[43m,\u001B[49m\n\u001B[1;32m   1058\u001B[0m \u001B[43m    \u001B[49m\u001B[43mXy\u001B[49m\u001B[38;5;241;43m=\u001B[39;49m\u001B[43mthis_Xy\u001B[49m\u001B[43m,\u001B[49m\n\u001B[1;32m   1059\u001B[0m \u001B[43m    \u001B[49m\u001B[43mcopy_X\u001B[49m\u001B[38;5;241;43m=\u001B[39;49m\u001B[38;5;28;43;01mTrue\u001B[39;49;00m\u001B[43m,\u001B[49m\n\u001B[1;32m   1060\u001B[0m \u001B[43m    \u001B[49m\u001B[43mcoef_init\u001B[49m\u001B[38;5;241;43m=\u001B[39;49m\u001B[43mcoef_\u001B[49m\u001B[43m[\u001B[49m\u001B[43mk\u001B[49m\u001B[43m]\u001B[49m\u001B[43m,\u001B[49m\n\u001B[1;32m   1061\u001B[0m \u001B[43m    \u001B[49m\u001B[43mverbose\u001B[49m\u001B[38;5;241;43m=\u001B[39;49m\u001B[38;5;28;43;01mFalse\u001B[39;49;00m\u001B[43m,\u001B[49m\n\u001B[1;32m   1062\u001B[0m \u001B[43m    \u001B[49m\u001B[43mreturn_n_iter\u001B[49m\u001B[38;5;241;43m=\u001B[39;49m\u001B[38;5;28;43;01mTrue\u001B[39;49;00m\u001B[43m,\u001B[49m\n\u001B[1;32m   1063\u001B[0m \u001B[43m    \u001B[49m\u001B[43mpositive\u001B[49m\u001B[38;5;241;43m=\u001B[39;49m\u001B[38;5;28;43mself\u001B[39;49m\u001B[38;5;241;43m.\u001B[39;49m\u001B[43mpositive\u001B[49m\u001B[43m,\u001B[49m\n\u001B[1;32m   1064\u001B[0m \u001B[43m    \u001B[49m\u001B[43mcheck_input\u001B[49m\u001B[38;5;241;43m=\u001B[39;49m\u001B[38;5;28;43;01mFalse\u001B[39;49;00m\u001B[43m,\u001B[49m\n\u001B[1;32m   1065\u001B[0m \u001B[43m    \u001B[49m\u001B[38;5;66;43;03m# from here on **params\u001B[39;49;00m\n\u001B[1;32m   1066\u001B[0m \u001B[43m    \u001B[49m\u001B[43mtol\u001B[49m\u001B[38;5;241;43m=\u001B[39;49m\u001B[38;5;28;43mself\u001B[39;49m\u001B[38;5;241;43m.\u001B[39;49m\u001B[43mtol\u001B[49m\u001B[43m,\u001B[49m\n\u001B[1;32m   1067\u001B[0m \u001B[43m    \u001B[49m\u001B[43mX_offset\u001B[49m\u001B[38;5;241;43m=\u001B[39;49m\u001B[43mX_offset\u001B[49m\u001B[43m,\u001B[49m\n\u001B[1;32m   1068\u001B[0m \u001B[43m    \u001B[49m\u001B[43mX_scale\u001B[49m\u001B[38;5;241;43m=\u001B[39;49m\u001B[43mX_scale\u001B[49m\u001B[43m,\u001B[49m\n\u001B[1;32m   1069\u001B[0m \u001B[43m    \u001B[49m\u001B[43mmax_iter\u001B[49m\u001B[38;5;241;43m=\u001B[39;49m\u001B[38;5;28;43mself\u001B[39;49m\u001B[38;5;241;43m.\u001B[39;49m\u001B[43mmax_iter\u001B[49m\u001B[43m,\u001B[49m\n\u001B[1;32m   1070\u001B[0m \u001B[43m    \u001B[49m\u001B[43mrandom_state\u001B[49m\u001B[38;5;241;43m=\u001B[39;49m\u001B[38;5;28;43mself\u001B[39;49m\u001B[38;5;241;43m.\u001B[39;49m\u001B[43mrandom_state\u001B[49m\u001B[43m,\u001B[49m\n\u001B[1;32m   1071\u001B[0m \u001B[43m    \u001B[49m\u001B[43mselection\u001B[49m\u001B[38;5;241;43m=\u001B[39;49m\u001B[38;5;28;43mself\u001B[39;49m\u001B[38;5;241;43m.\u001B[39;49m\u001B[43mselection\u001B[49m\u001B[43m,\u001B[49m\n\u001B[1;32m   1072\u001B[0m \u001B[43m    \u001B[49m\u001B[43msample_weight\u001B[49m\u001B[38;5;241;43m=\u001B[39;49m\u001B[43msample_weight\u001B[49m\u001B[43m,\u001B[49m\n\u001B[1;32m   1073\u001B[0m \u001B[43m\u001B[49m\u001B[43m)\u001B[49m\n\u001B[1;32m   1074\u001B[0m coef_[k] \u001B[38;5;241m=\u001B[39m this_coef[:, \u001B[38;5;241m0\u001B[39m]\n\u001B[1;32m   1075\u001B[0m dual_gaps_[k] \u001B[38;5;241m=\u001B[39m this_dual_gap[\u001B[38;5;241m0\u001B[39m]\n",
      "File \u001B[0;32m~/Desktop/repos/overlappogram/venv/lib/python3.9/site-packages/sklearn/utils/_param_validation.py:186\u001B[0m, in \u001B[0;36mvalidate_params.<locals>.decorator.<locals>.wrapper\u001B[0;34m(*args, **kwargs)\u001B[0m\n\u001B[1;32m    184\u001B[0m global_skip_validation \u001B[38;5;241m=\u001B[39m get_config()[\u001B[38;5;124m\"\u001B[39m\u001B[38;5;124mskip_parameter_validation\u001B[39m\u001B[38;5;124m\"\u001B[39m]\n\u001B[1;32m    185\u001B[0m \u001B[38;5;28;01mif\u001B[39;00m global_skip_validation:\n\u001B[0;32m--> 186\u001B[0m     \u001B[38;5;28;01mreturn\u001B[39;00m \u001B[43mfunc\u001B[49m\u001B[43m(\u001B[49m\u001B[38;5;241;43m*\u001B[39;49m\u001B[43margs\u001B[49m\u001B[43m,\u001B[49m\u001B[43m \u001B[49m\u001B[38;5;241;43m*\u001B[39;49m\u001B[38;5;241;43m*\u001B[39;49m\u001B[43mkwargs\u001B[49m\u001B[43m)\u001B[49m\n\u001B[1;32m    188\u001B[0m func_sig \u001B[38;5;241m=\u001B[39m signature(func)\n\u001B[1;32m    190\u001B[0m \u001B[38;5;66;03m# Map *args/**kwargs to the function signature\u001B[39;00m\n",
      "File \u001B[0;32m~/Desktop/repos/overlappogram/venv/lib/python3.9/site-packages/sklearn/linear_model/_coordinate_descent.py:678\u001B[0m, in \u001B[0;36menet_path\u001B[0;34m(X, y, l1_ratio, eps, n_alphas, alphas, precompute, Xy, copy_X, coef_init, verbose, return_n_iter, positive, check_input, **params)\u001B[0m\n\u001B[1;32m    664\u001B[0m     model \u001B[38;5;241m=\u001B[39m cd_fast\u001B[38;5;241m.\u001B[39menet_coordinate_descent_gram(\n\u001B[1;32m    665\u001B[0m         coef_,\n\u001B[1;32m    666\u001B[0m         l1_reg,\n\u001B[0;32m   (...)\u001B[0m\n\u001B[1;32m    675\u001B[0m         positive,\n\u001B[1;32m    676\u001B[0m     )\n\u001B[1;32m    677\u001B[0m \u001B[38;5;28;01melif\u001B[39;00m precompute \u001B[38;5;129;01mis\u001B[39;00m \u001B[38;5;28;01mFalse\u001B[39;00m:\n\u001B[0;32m--> 678\u001B[0m     model \u001B[38;5;241m=\u001B[39m \u001B[43mcd_fast\u001B[49m\u001B[38;5;241;43m.\u001B[39;49m\u001B[43menet_coordinate_descent\u001B[49m\u001B[43m(\u001B[49m\n\u001B[1;32m    679\u001B[0m \u001B[43m        \u001B[49m\u001B[43mcoef_\u001B[49m\u001B[43m,\u001B[49m\u001B[43m \u001B[49m\u001B[43ml1_reg\u001B[49m\u001B[43m,\u001B[49m\u001B[43m \u001B[49m\u001B[43ml2_reg\u001B[49m\u001B[43m,\u001B[49m\u001B[43m \u001B[49m\u001B[43mX\u001B[49m\u001B[43m,\u001B[49m\u001B[43m \u001B[49m\u001B[43my\u001B[49m\u001B[43m,\u001B[49m\u001B[43m \u001B[49m\u001B[43mmax_iter\u001B[49m\u001B[43m,\u001B[49m\u001B[43m \u001B[49m\u001B[43mtol\u001B[49m\u001B[43m,\u001B[49m\u001B[43m \u001B[49m\u001B[43mrng\u001B[49m\u001B[43m,\u001B[49m\u001B[43m \u001B[49m\u001B[43mrandom\u001B[49m\u001B[43m,\u001B[49m\u001B[43m \u001B[49m\u001B[43mpositive\u001B[49m\n\u001B[1;32m    680\u001B[0m \u001B[43m    \u001B[49m\u001B[43m)\u001B[49m\n\u001B[1;32m    681\u001B[0m \u001B[38;5;28;01melse\u001B[39;00m:\n\u001B[1;32m    682\u001B[0m     \u001B[38;5;28;01mraise\u001B[39;00m \u001B[38;5;167;01mValueError\u001B[39;00m(\n\u001B[1;32m    683\u001B[0m         \u001B[38;5;124m\"\u001B[39m\u001B[38;5;124mPrecompute should be one of True, False, \u001B[39m\u001B[38;5;124m'\u001B[39m\u001B[38;5;124mauto\u001B[39m\u001B[38;5;124m'\u001B[39m\u001B[38;5;124m or array-like. Got \u001B[39m\u001B[38;5;132;01m%r\u001B[39;00m\u001B[38;5;124m\"\u001B[39m\n\u001B[1;32m    684\u001B[0m         \u001B[38;5;241m%\u001B[39m precompute\n\u001B[1;32m    685\u001B[0m     )\n",
      "File \u001B[0;32msklearn/linear_model/_cd_fast.pyx:265\u001B[0m, in \u001B[0;36msklearn.linear_model._cd_fast.enet_coordinate_descent\u001B[0;34m()\u001B[0m\n",
      "File \u001B[0;32m~/Desktop/repos/overlappogram/venv/lib/python3.9/site-packages/numpy/core/getlimits.py:485\u001B[0m, in \u001B[0;36mfinfo.__new__\u001B[0;34m(cls, dtype)\u001B[0m\n\u001B[1;32m    484\u001B[0m \u001B[38;5;28;01mdef\u001B[39;00m \u001B[38;5;21m__new__\u001B[39m(\u001B[38;5;28mcls\u001B[39m, dtype):\n\u001B[0;32m--> 485\u001B[0m     \u001B[38;5;28;01mtry\u001B[39;00m:\n\u001B[1;32m    486\u001B[0m         obj \u001B[38;5;241m=\u001B[39m \u001B[38;5;28mcls\u001B[39m\u001B[38;5;241m.\u001B[39m_finfo_cache\u001B[38;5;241m.\u001B[39mget(dtype)  \u001B[38;5;66;03m# most common path\u001B[39;00m\n\u001B[1;32m    487\u001B[0m         \u001B[38;5;28;01mif\u001B[39;00m obj \u001B[38;5;129;01mis\u001B[39;00m \u001B[38;5;129;01mnot\u001B[39;00m \u001B[38;5;28;01mNone\u001B[39;00m:\n",
      "\u001B[0;31mKeyboardInterrupt\u001B[0m: "
     ]
    }
   ],
   "source": [
    "enet.fit(X[425].reshape(1, -1), y.transpose()[425].reshape(1, -1))"
   ],
   "metadata": {
    "collapsed": false,
    "ExecuteTime": {
     "end_time": "2024-02-19T18:01:16.257981Z",
     "start_time": "2024-02-19T17:59:24.678521Z"
    }
   },
   "id": "746bd56fb7eac2e0",
   "execution_count": 83
  },
  {
   "cell_type": "code",
   "outputs": [],
   "source": [
    "a = \"output/eccco_is_lw_forwardmodel_thermal_response_psf4pix_el_model_predicted_data_x2_1.0_5_wpsf.fits\""
   ],
   "metadata": {
    "collapsed": false,
    "ExecuteTime": {
     "end_time": "2024-02-19T18:08:29.079791Z",
     "start_time": "2024-02-19T18:08:29.074958Z"
    }
   },
   "id": "783ecd0870e38c70",
   "execution_count": 100
  },
  {
   "cell_type": "code",
   "outputs": [
    {
     "data": {
      "text/plain": "[<matplotlib.lines.Line2D at 0x2c630ebe0>]"
     },
     "execution_count": 101,
     "metadata": {},
     "output_type": "execute_result"
    },
    {
     "data": {
      "text/plain": "<Figure size 640x480 with 1 Axes>",
      "image/png": "[encoded data removed]"
     },
     "metadata": {},
     "output_type": "display_data"
    }
   ],
   "source": [
    "fig, ax = plt.subplots()\n",
    "ax.plot(fits.open(a)[0].data[451])\n"
   ],
   "metadata": {
    "collapsed": false,
    "ExecuteTime": {
     "end_time": "2024-02-19T18:08:29.558467Z",
     "start_time": "2024-02-19T18:08:29.488122Z"
    }
   },
   "id": "ab3a9fa0b4595d02",
   "execution_count": 101
  },
  {
   "cell_type": "code",
   "outputs": [
    {
     "data": {
      "text/plain": "[<matplotlib.lines.Line2D at 0x2c638b130>]"
     },
     "execution_count": 102,
     "metadata": {},
     "output_type": "execute_result"
    },
    {
     "data": {
      "text/plain": "<Figure size 640x480 with 1 Axes>",
      "image/png": "[encoded data removed]"
     },
     "metadata": {},
     "output_type": "display_data"
    }
   ],
   "source": [
    "fig, ax = plt.subplots()\n",
    "ax.plot(fits.open(a)[0].data[451])\n"
   ],
   "metadata": {
    "collapsed": false,
    "ExecuteTime": {
     "end_time": "2024-02-19T18:13:26.723847Z",
     "start_time": "2024-02-19T18:13:26.657137Z"
    }
   },
   "id": "9388883e00a96afe",
   "execution_count": 102
  },
  {
   "cell_type": "code",
   "outputs": [],
   "source": [],
   "metadata": {
    "collapsed": false
   },
   "id": "95c7974ee167ffe6"
  }
 ],
 "metadata": {
  "kernelspec": {
   "display_name": "Python 3",
   "language": "python",
   "name": "python3"
  },
  "language_info": {
   "codemirror_mode": {
    "name": "ipython",
    "version": 2
   },
   "file_extension": ".py",
   "mimetype": "text/x-python",
   "name": "python",
   "nbconvert_exporter": "python",
   "pygments_lexer": "ipython2",
   "version": "2.7.6"
  }
 },
 "nbformat": 4,
 "nbformat_minor": 5
}
